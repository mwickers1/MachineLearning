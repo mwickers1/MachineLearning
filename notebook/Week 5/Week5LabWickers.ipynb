{
 "cells": [
  {
   "cell_type": "code",
   "execution_count": 1,
   "metadata": {},
   "outputs": [],
   "source": [
    "import requests\n",
    "import pandas as pd\n",
    "import numpy as np"
   ]
  },
  {
   "cell_type": "code",
   "execution_count": 2,
   "metadata": {
    "slideshow": {
     "slide_type": "slide"
    }
   },
   "outputs": [],
   "source": [
    "response = requests.get('https://clinicaltrials.gov/api/query/full_studies', params={'expr':'diabetes', \n",
    "                                                                                     'min_rnk':'1', \n",
    "                                                                                     'max_rnk':'100',\n",
    "                                                                                     'fmt':'json'})\n",
    "\n",
    "response2 = requests.get('https://clinicaltrials.gov/api/query/full_studies', params={'expr':'diabetes', \n",
    "                                                                                     'min_rnk':'101', \n",
    "                                                                                     'max_rnk':'200',\n",
    "                                                                                     'fmt':'json'})\n",
    "\n",
    "response3 = requests.get('https://clinicaltrials.gov/api/query/full_studies', params={'expr':'diabetes', \n",
    "                                                                                     'min_rnk':'201', \n",
    "                                                                                     'max_rnk':'300',\n",
    "                                                                                     'fmt':'json'})\n",
    "\n",
    "response4 = requests.get('https://clinicaltrials.gov/api/query/full_studies', params={'expr':'diabetes', \n",
    "                                                                                     'min_rnk':'301', \n",
    "                                                                                     'max_rnk':'400',\n",
    "                                                                                     'fmt':'json'})\n",
    "\n",
    "response5 = requests.get('https://clinicaltrials.gov/api/query/full_studies', params={'expr':'diabetes', \n",
    "                                                                                     'min_rnk':'401', \n",
    "                                                                                     'max_rnk':'500',\n",
    "                                                                                     'fmt':'json'})\n",
    "\n",
    "response6 = requests.get('https://clinicaltrials.gov/api/query/full_studies', params={'expr':'diabetes', \n",
    "                                                                                     'min_rnk':'501', \n",
    "                                                                                     'max_rnk':'600',\n",
    "                                                                                     'fmt':'json'})\n",
    "\n",
    "response7 = requests.get('https://clinicaltrials.gov/api/query/full_studies', params={'expr':'diabetes', \n",
    "                                                                                     'min_rnk':'601', \n",
    "                                                                                     'max_rnk':'700',\n",
    "                                                                                     'fmt':'json'})\n",
    "\n",
    "response8 = requests.get('https://clinicaltrials.gov/api/query/full_studies', params={'expr':'diabetes', \n",
    "                                                                                     'min_rnk':'701', \n",
    "                                                                                     'max_rnk':'800',\n",
    "                                                                                     'fmt':'json'})\n",
    "\n",
    "response9 = requests.get('https://clinicaltrials.gov/api/query/full_studies', params={'expr':'diabetes', \n",
    "                                                                                     'min_rnk':'801', \n",
    "                                                                                     'max_rnk':'900',\n",
    "                                                                                     'fmt':'json'})\n",
    "\n",
    "response10 = requests.get('https://clinicaltrials.gov/api/query/full_studies', params={'expr':'diabetes', \n",
    "                                                                                     'min_rnk':'901', \n",
    "                                                                                     'max_rnk':'1000',\n",
    "                                                                                     'fmt':'json'})"
   ]
  },
  {
   "cell_type": "code",
   "execution_count": 3,
   "metadata": {
    "slideshow": {
     "slide_type": "slide"
    }
   },
   "outputs": [
    {
     "data": {
      "text/plain": [
       "requests.models.Response"
      ]
     },
     "execution_count": 3,
     "metadata": {},
     "output_type": "execute_result"
    }
   ],
   "source": [
    "type(response)"
   ]
  },
  {
   "cell_type": "code",
   "execution_count": 4,
   "metadata": {
    "slideshow": {
     "slide_type": "slide"
    }
   },
   "outputs": [
    {
     "data": {
      "text/plain": [
       "<Response [200]>"
      ]
     },
     "execution_count": 4,
     "metadata": {},
     "output_type": "execute_result"
    }
   ],
   "source": [
    "response"
   ]
  },
  {
   "cell_type": "code",
   "execution_count": 5,
   "metadata": {
    "slideshow": {
     "slide_type": "slide"
    }
   },
   "outputs": [],
   "source": [
    "import json\n",
    "\n",
    "response_json = json.loads(response.text)\n",
    "response_json2 = json.loads(response2.text)\n",
    "response_json3 = json.loads(response3.text)\n",
    "response_json4 = json.loads(response4.text)\n",
    "response_json5 = json.loads(response5.text)\n",
    "response_json6 = json.loads(response6.text)\n",
    "response_json7 = json.loads(response7.text)\n",
    "response_json8 = json.loads(response8.text)\n",
    "response_json9 = json.loads(response9.text)\n",
    "response_json10 = json.loads(response10.text)"
   ]
  },
  {
   "cell_type": "code",
   "execution_count": 6,
   "metadata": {
    "slideshow": {
     "slide_type": "slide"
    }
   },
   "outputs": [],
   "source": [
    "use_cols = ['Study.ProtocolSection.StatusModule.OverallStatus',\n",
    "            'Study.ProtocolSection.StatusModule.StartDateStruct.StartDate',\n",
    "            'Study.ProtocolSection.EligibilityModule.MaximumAge',\n",
    "            'Study.ProtocolSection.EligibilityModule.MinimumAge',\n",
    "            'Study.ProtocolSection.DesignModule.EnrollmentInfo.EnrollmentType',\n",
    "            'Study.ProtocolSection.DesignModule.EnrollmentInfo.EnrollmentCount',\n",
    "            'Study.ProtocolSection.DescriptionModule.DetailedDescription',\n",
    "            'Study.ProtocolSection.DescriptionModule.BriefSummary']"
   ]
  },
  {
   "cell_type": "code",
   "execution_count": 7,
   "metadata": {
    "slideshow": {
     "slide_type": "slide"
    }
   },
   "outputs": [
    {
     "ename": "NameError",
     "evalue": "name 'df' is not defined",
     "output_type": "error",
     "traceback": [
      "\u001b[1;31m---------------------------------------------------------------------------\u001b[0m",
      "\u001b[1;31mNameError\u001b[0m                                 Traceback (most recent call last)",
      "\u001b[1;32m<ipython-input-7-9ff824796099>\u001b[0m in \u001b[0;36m<module>\u001b[1;34m\u001b[0m\n\u001b[1;32m----> 1\u001b[1;33m \u001b[0mdf_use\u001b[0m \u001b[1;33m=\u001b[0m \u001b[0mdf\u001b[0m\u001b[1;33m[\u001b[0m\u001b[0muse_cols\u001b[0m\u001b[1;33m]\u001b[0m\u001b[1;33m\u001b[0m\u001b[1;33m\u001b[0m\u001b[0m\n\u001b[0m\u001b[0;32m      2\u001b[0m \u001b[0mdf_use2\u001b[0m \u001b[1;33m=\u001b[0m \u001b[0mdf2\u001b[0m\u001b[1;33m[\u001b[0m\u001b[0muse_cols\u001b[0m\u001b[1;33m]\u001b[0m\u001b[1;33m\u001b[0m\u001b[1;33m\u001b[0m\u001b[0m\n\u001b[0;32m      3\u001b[0m \u001b[0mdf_use3\u001b[0m \u001b[1;33m=\u001b[0m \u001b[0mdf3\u001b[0m\u001b[1;33m[\u001b[0m\u001b[0muse_cols\u001b[0m\u001b[1;33m]\u001b[0m\u001b[1;33m\u001b[0m\u001b[1;33m\u001b[0m\u001b[0m\n\u001b[0;32m      4\u001b[0m \u001b[0mdf_use4\u001b[0m \u001b[1;33m=\u001b[0m \u001b[0mdf4\u001b[0m\u001b[1;33m[\u001b[0m\u001b[0muse_cols\u001b[0m\u001b[1;33m]\u001b[0m\u001b[1;33m\u001b[0m\u001b[1;33m\u001b[0m\u001b[0m\n\u001b[0;32m      5\u001b[0m \u001b[0mdf_use5\u001b[0m \u001b[1;33m=\u001b[0m \u001b[0mdf5\u001b[0m\u001b[1;33m[\u001b[0m\u001b[0muse_cols\u001b[0m\u001b[1;33m]\u001b[0m\u001b[1;33m\u001b[0m\u001b[1;33m\u001b[0m\u001b[0m\n",
      "\u001b[1;31mNameError\u001b[0m: name 'df' is not defined"
     ]
    }
   ],
   "source": [
    "df_use = df[use_cols]\n",
    "df_use2 = df2[use_cols]\n",
    "df_use3 = df3[use_cols]\n",
    "df_use4 = df4[use_cols]\n",
    "df_use5 = df5[use_cols]\n",
    "df_use6 = df6[use_cols]\n",
    "df_use7 = df7[use_cols]\n",
    "df_use8 = df8[use_cols]\n",
    "df_use9 = df9[use_cols]\n",
    "df_use10 = df10[use_cols]\n",
    "\n",
    "df_use.shape"
   ]
  },
  {
   "cell_type": "code",
   "execution_count": null,
   "metadata": {
    "slideshow": {
     "slide_type": "slide"
    }
   },
   "outputs": [],
   "source": [
    "df_use = df_use.append([df_use2, df_use3, df_use4, df_use5, df_use7,df_use8, df_use9, df_use10])\n",
    "df_use.shape"
   ]
  },
  {
   "cell_type": "code",
   "execution_count": null,
   "metadata": {
    "slideshow": {
     "slide_type": "slide"
    }
   },
   "outputs": [],
   "source": [
    "df_use.columns = ['OverallStatus',\n",
    "                  'StartDate',\n",
    "                  'MaximumAge',\n",
    "                  'MinimumAge',\n",
    "                  'EnrollmentType',\n",
    "                  'EnrollmentCount',\n",
    "                  'DetailedDescription',\n",
    "                  'BriefSummary']"
   ]
  },
  {
   "cell_type": "code",
   "execution_count": null,
   "metadata": {
    "slideshow": {
     "slide_type": "slide"
    }
   },
   "outputs": [],
   "source": [
    "df_use.head()"
   ]
  },
  {
   "cell_type": "code",
   "execution_count": null,
   "metadata": {
    "slideshow": {
     "slide_type": "slide"
    }
   },
   "outputs": [],
   "source": [
    "df_use.isna().sum()"
   ]
  },
  {
   "cell_type": "code",
   "execution_count": null,
   "metadata": {},
   "outputs": [],
   "source": [
    "df_use.OverallStatus[(df_use.OverallStatus != \"Completed\") & (df_use.OverallStatus != \"Terminated\")] = \"Other\""
   ]
  },
  {
   "cell_type": "code",
   "execution_count": null,
   "metadata": {},
   "outputs": [],
   "source": [
    "df_use.OverallStatus.unique()"
   ]
  },
  {
   "cell_type": "code",
   "execution_count": null,
   "metadata": {},
   "outputs": [],
   "source": [
    "status = {'Completed': 1,'Other': 2, 'Terminated': 3}\n",
    "df_use.OverallStatus = [status[item] for item in df_use.OverallStatus] "
   ]
  },
  {
   "cell_type": "code",
   "execution_count": null,
   "metadata": {},
   "outputs": [],
   "source": [
    "df_use.MaximumAge = df_use.MaximumAge.replace(to_replace=r' Years', value='', regex=True)\n",
    "df_use.MaximumAge = pd.to_numeric(df_use.MaximumAge, errors = 'coerce')"
   ]
  },
  {
   "cell_type": "code",
   "execution_count": null,
   "metadata": {},
   "outputs": [],
   "source": [
    "df_use.MinimumAge = df_use.MinimumAge.replace(to_replace=r' Years', value='', regex=True)\n",
    "df_use.MinimumAge = pd.to_numeric(df_use.MinimumAge, errors = 'coerce')"
   ]
  },
  {
   "cell_type": "code",
   "execution_count": null,
   "metadata": {},
   "outputs": [],
   "source": [
    "df_use.EnrollmentCount = pd.to_numeric(df_use.EnrollmentCount, errors = 'coerce')"
   ]
  },
  {
   "cell_type": "code",
   "execution_count": null,
   "metadata": {},
   "outputs": [],
   "source": [
    "df_use = df_use.dropna()"
   ]
  },
  {
   "cell_type": "code",
   "execution_count": null,
   "metadata": {},
   "outputs": [],
   "source": [
    "df_use.head()"
   ]
  },
  {
   "cell_type": "code",
   "execution_count": null,
   "metadata": {},
   "outputs": [],
   "source": [
    "X = df_use.iloc[:, np.r_[2:3, 5]].values\n",
    "y = df_use.iloc[:, 0].values"
   ]
  },
  {
   "cell_type": "code",
   "execution_count": null,
   "metadata": {},
   "outputs": [],
   "source": [
    "from sklearn.model_selection import train_test_split\n",
    "\n",
    "X_train, X_test, y_train, y_test = train_test_split(X, y, test_size=0.2, random_state=0)"
   ]
  },
  {
   "cell_type": "code",
   "execution_count": null,
   "metadata": {},
   "outputs": [],
   "source": [
    "# Feature Scaling\n",
    "from sklearn.preprocessing import StandardScaler\n",
    "\n",
    "sc = StandardScaler()\n",
    "X_train = sc.fit_transform(X_train)\n",
    "X_test = sc.transform(X_test)"
   ]
  },
  {
   "cell_type": "code",
   "execution_count": null,
   "metadata": {},
   "outputs": [],
   "source": [
    "from sklearn.ensemble import RandomForestClassifier\n",
    "\n",
    "classifier = RandomForestClassifier(n_estimators=5, random_state=0)\n",
    "classifier.fit(X_train, y_train)\n",
    "y_pred = classifier.predict(X_test)"
   ]
  },
  {
   "cell_type": "code",
   "execution_count": null,
   "metadata": {},
   "outputs": [],
   "source": [
    "from sklearn import metrics\n",
    "\n",
    "print('Mean Absolute Error:', metrics.mean_absolute_error(y_test, y_pred))\n",
    "print('Mean Squared Error:', metrics.mean_squared_error(y_test, y_pred))\n",
    "print('Root Mean Squared Error:', np.sqrt(metrics.mean_squared_error(y_test, y_pred)))\n",
    "print('Accuracy:', metrics.accuracy_score(y_test, y_pred))\n",
    "scores = cross_val_score(classifier, X, y, cv=10)\n",
    "print(scores)"
   ]
  },
  {
   "cell_type": "code",
   "execution_count": null,
   "metadata": {},
   "outputs": [],
   "source": [
    "from sklearn.neighbors import KNeighborsClassifier\n",
    "\n",
    "clf = KNeighborsClassifier(n_neighbors=5)\n",
    "clf.fit(X_train, y_train)\n",
    "y_pred = clf.predict(X_test)"
   ]
  },
  {
   "cell_type": "code",
   "execution_count": null,
   "metadata": {},
   "outputs": [],
   "source": [
    "from sklearn import metrics\n",
    "\n",
    "print('Mean Absolute Error:', metrics.mean_absolute_error(y_test, y_pred))\n",
    "print('Mean Squared Error:', metrics.mean_squared_error(y_test, y_pred))\n",
    "print('Root Mean Squared Error:', np.sqrt(metrics.mean_squared_error(y_test, y_pred)))\n",
    "print('Accuracy:', metrics.accuracy_score(y_test, y_pred))\n",
    "scores = cross_val_score(clf, X, y, cv=10)\n",
    "print(scores)"
   ]
  },
  {
   "cell_type": "code",
   "execution_count": null,
   "metadata": {},
   "outputs": [],
   "source": []
  },
  {
   "cell_type": "code",
   "execution_count": null,
   "metadata": {},
   "outputs": [],
   "source": [
    "from sklearn.model_selection import cross_val_score\n",
    "from sklearn import svm\n",
    "clf = svm.SVC(kernel='linear', C=1)                                       \n"
   ]
  },
  {
   "cell_type": "code",
   "execution_count": null,
   "metadata": {},
   "outputs": [],
   "source": [
    "scores = cross_val_score(clf, X, y, cv=10)\n",
    "print(scores)"
   ]
  },
  {
   "cell_type": "code",
   "execution_count": null,
   "metadata": {},
   "outputs": [],
   "source": [
    "clf.fit(X_train, y_train)\n",
    "y_pred = clf.predict(X_test)\n",
    "print('Accuracy:', metrics.accuracy_score(y_test,y_pred ))"
   ]
  },
  {
   "cell_type": "code",
   "execution_count": null,
   "metadata": {},
   "outputs": [],
   "source": [
    "from hyperopt import hp, fmin, tpe, STATUS_OK, Trials\n",
    "\n",
    "hspace = {\n",
    "          'max_depth': hp.quniform(\"max_depth\", 2, 5, 1),\n",
    "          'n_estimators': hp.quniform ('n_estimators', 5, 10, 1),\n",
    "         }"
   ]
  },
  {
   "cell_type": "code",
   "execution_count": null,
   "metadata": {},
   "outputs": [],
   "source": [
    "def objective(hspace):\n",
    "    clf = KNeighborsClassifier(n_neighbors=int(hspace['n_estimators']))\n",
    "\n",
    "    accuracy = np.mean(cross_val_score(clf, X, y, cv=10))\n",
    "\n",
    "    return{'loss':-accuracy, 'status': STATUS_OK, 'model': clf }"
   ]
  },
  {
   "cell_type": "code",
   "execution_count": null,
   "metadata": {},
   "outputs": [],
   "source": [
    "trials = Trials()\n",
    "best = fmin(fn=objective,\n",
    "            space=hspace,\n",
    "            algo=tpe.suggest,\n",
    "            max_evals=10,\n",
    "            trials=trials)"
   ]
  },
  {
   "cell_type": "code",
   "execution_count": null,
   "metadata": {},
   "outputs": [],
   "source": [
    "trials.losses()"
   ]
  },
  {
   "cell_type": "code",
   "execution_count": null,
   "metadata": {},
   "outputs": [],
   "source": [
    "best"
   ]
  },
  {
   "cell_type": "code",
   "execution_count": null,
   "metadata": {},
   "outputs": [],
   "source": [
    "trials.results[3]"
   ]
  },
  {
   "cell_type": "code",
   "execution_count": null,
   "metadata": {},
   "outputs": [],
   "source": [
    "best_model = trials.results[3]['model']\n",
    "best_model"
   ]
  }
 ],
 "metadata": {
  "kernelspec": {
   "display_name": "Python 3",
   "language": "python",
   "name": "python3"
  },
  "language_info": {
   "codemirror_mode": {
    "name": "ipython",
    "version": 3
   },
   "file_extension": ".py",
   "mimetype": "text/x-python",
   "name": "python",
   "nbconvert_exporter": "python",
   "pygments_lexer": "ipython3",
   "version": "3.7.3"
  }
 },
 "nbformat": 4,
 "nbformat_minor": 2
}
