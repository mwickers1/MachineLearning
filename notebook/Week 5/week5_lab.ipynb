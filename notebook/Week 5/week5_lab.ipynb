{
 "cells": [
  {
   "cell_type": "markdown",
   "metadata": {},
   "source": [
    "# Week 5 - Lab\n",
    "\n",
    "This lab consists of practicing some of the mechanics of making HTTP requests for data. We'll also practice the process of selecting models using N-fold cross validation and grid searching the hyper-parameter space.\n",
    "\n",
    "**Table of Contents**\n",
    "\n",
    "-   [Exercise](#exercise)\n",
    "-   [Deliverables](#deliverables)"
   ]
  },
  {
   "cell_type": "markdown",
   "metadata": {},
   "source": [
    "<a id='exercise'></a>\n",
    "## Exercise"
   ]
  },
  {
   "cell_type": "markdown",
   "metadata": {},
   "source": [
    "(1) Using R or python, fetch the same dataset from `https://clinicaltrials.gov/api/query/full_studies`, except retrieve at least 1,000 studies. The studies can be of any type or search expression. Split the dataset into training and test sets."
   ]
  },
  {
   "cell_type": "markdown",
   "metadata": {},
   "source": [
    "(2) Build a classification model, where the response is `OverallStatus`, but the only allowable levels are `Completed` and `Terminated`. Group all of the other statuses into a third category called `Other`. You can use any features you like. Make sure to perform 10-fold cross-validation and perform a grid search over a reasonable number of hyper-parameters. Use accuracy as your model selection metric."
   ]
  },
  {
   "cell_type": "markdown",
   "metadata": {},
   "source": [
    "(3) Report the best model you found with your grid search."
   ]
  },
  {
   "cell_type": "markdown",
   "metadata": {},
   "source": [
    "(4) Build a final model with the best hyper-parameters on the whole training set."
   ]
  },
  {
   "cell_type": "markdown",
   "metadata": {},
   "source": [
    "(5) Persist your final model to disk, and then reload your model from disk."
   ]
  },
  {
   "cell_type": "markdown",
   "metadata": {},
   "source": [
    "(6) Report the test set accuracy with the final model."
   ]
  },
  {
   "cell_type": "markdown",
   "metadata": {},
   "source": [
    "<a id='deliverables'></a>\n",
    "## Deliverables"
   ]
  },
  {
   "cell_type": "markdown",
   "metadata": {},
   "source": [
    "- Due 13AUG2019. R/Python code and output in a single text document."
   ]
  },
  {
   "cell_type": "code",
   "execution_count": null,
   "metadata": {},
   "outputs": [],
   "source": []
  }
 ],
 "metadata": {
  "kernelspec": {
   "display_name": "Python 3",
   "language": "python",
   "name": "python3"
  },
  "language_info": {
   "codemirror_mode": {
    "name": "ipython",
    "version": 3
   },
   "file_extension": ".py",
   "mimetype": "text/x-python",
   "name": "python",
   "nbconvert_exporter": "python",
   "pygments_lexer": "ipython3",
   "version": "3.7.3"
  }
 },
 "nbformat": 4,
 "nbformat_minor": 2
}
