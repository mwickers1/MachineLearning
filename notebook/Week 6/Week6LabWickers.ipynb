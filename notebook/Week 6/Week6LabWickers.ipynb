{
 "cells": [
  {
   "cell_type": "code",
   "execution_count": 1,
   "metadata": {},
   "outputs": [],
   "source": [
    "import h2o\n",
    "import numpy as np"
   ]
  },
  {
   "cell_type": "code",
   "execution_count": 2,
   "metadata": {},
   "outputs": [
    {
     "name": "stdout",
     "output_type": "stream",
     "text": [
      "Checking whether there is an H2O instance running at http://localhost:54321 ..... not found.\n",
      "Attempting to start a local H2O server...\n",
      "; Java HotSpot(TM) 64-Bit Server VM (build 25.202-b08, mixed mode)\n",
      "  Starting server from C:\\Users\\melissa.wickers\\AppData\\Local\\Continuum\\anaconda3\\lib\\site-packages\\h2o\\backend\\bin\\h2o.jar\n",
      "  Ice root: C:\\Users\\MELISS~1.WIC\\AppData\\Local\\Temp\\tmplwb9ysa2\n",
      "  JVM stdout: C:\\Users\\MELISS~1.WIC\\AppData\\Local\\Temp\\tmplwb9ysa2\\h2o_melissa_wickers_started_from_python.out\n",
      "  JVM stderr: C:\\Users\\MELISS~1.WIC\\AppData\\Local\\Temp\\tmplwb9ysa2\\h2o_melissa_wickers_started_from_python.err\n",
      "  Server is running at http://127.0.0.1:54321\n",
      "Connecting to H2O server at http://127.0.0.1:54321 ... successful.\n"
     ]
    },
    {
     "data": {
      "text/html": [
       "<div style=\"overflow:auto\"><table style=\"width:50%\"><tr><td>H2O cluster uptime:</td>\n",
       "<td>02 secs</td></tr>\n",
       "<tr><td>H2O cluster timezone:</td>\n",
       "<td>America/New_York</td></tr>\n",
       "<tr><td>H2O data parsing timezone:</td>\n",
       "<td>UTC</td></tr>\n",
       "<tr><td>H2O cluster version:</td>\n",
       "<td>3.26.0.2</td></tr>\n",
       "<tr><td>H2O cluster version age:</td>\n",
       "<td>24 days </td></tr>\n",
       "<tr><td>H2O cluster name:</td>\n",
       "<td>H2O_from_python_melissa_wickers_s3ngb2</td></tr>\n",
       "<tr><td>H2O cluster total nodes:</td>\n",
       "<td>1</td></tr>\n",
       "<tr><td>H2O cluster free memory:</td>\n",
       "<td>7.061 Gb</td></tr>\n",
       "<tr><td>H2O cluster total cores:</td>\n",
       "<td>12</td></tr>\n",
       "<tr><td>H2O cluster allowed cores:</td>\n",
       "<td>12</td></tr>\n",
       "<tr><td>H2O cluster status:</td>\n",
       "<td>accepting new members, healthy</td></tr>\n",
       "<tr><td>H2O connection url:</td>\n",
       "<td>http://127.0.0.1:54321</td></tr>\n",
       "<tr><td>H2O connection proxy:</td>\n",
       "<td>None</td></tr>\n",
       "<tr><td>H2O internal security:</td>\n",
       "<td>False</td></tr>\n",
       "<tr><td>H2O API Extensions:</td>\n",
       "<td>Amazon S3, Algos, AutoML, Core V3, Core V4</td></tr>\n",
       "<tr><td>Python version:</td>\n",
       "<td>3.7.3 final</td></tr></table></div>"
      ],
      "text/plain": [
       "--------------------------  ------------------------------------------\n",
       "H2O cluster uptime:         02 secs\n",
       "H2O cluster timezone:       America/New_York\n",
       "H2O data parsing timezone:  UTC\n",
       "H2O cluster version:        3.26.0.2\n",
       "H2O cluster version age:    24 days\n",
       "H2O cluster name:           H2O_from_python_melissa_wickers_s3ngb2\n",
       "H2O cluster total nodes:    1\n",
       "H2O cluster free memory:    7.061 Gb\n",
       "H2O cluster total cores:    12\n",
       "H2O cluster allowed cores:  12\n",
       "H2O cluster status:         accepting new members, healthy\n",
       "H2O connection url:         http://127.0.0.1:54321\n",
       "H2O connection proxy:\n",
       "H2O internal security:      False\n",
       "H2O API Extensions:         Amazon S3, Algos, AutoML, Core V3, Core V4\n",
       "Python version:             3.7.3 final\n",
       "--------------------------  ------------------------------------------"
      ]
     },
     "metadata": {},
     "output_type": "display_data"
    }
   ],
   "source": [
    "h2o.init(ip=\"localhost\", port=54321)"
   ]
  },
  {
   "cell_type": "code",
   "execution_count": 13,
   "metadata": {},
   "outputs": [
    {
     "name": "stdout",
     "output_type": "stream",
     "text": [
      "Parse progress: |█████████████████████████████████████████████████████████| 100%\n",
      "gbm Grid Build progress: |████████████████████████████████████████████████| 100%\n"
     ]
    }
   ],
   "source": [
    "from h2o.estimators.gbm import H2OGradientBoostingEstimator\n",
    "from h2o.grid.grid_search import H2OGridSearch\n",
    "\n",
    "hf = h2o.upload_file(\"prostate.csv\", destination_frame=\"prostate.csv\")\n",
    "\n",
    "x = hf.columns\n",
    "y = \"CAPSULE\"\n",
    "x.remove(y)\n",
    "\n",
    "\n",
    "# Split dataset giving the training dataset 75% of the data\n",
    "\n",
    "train,test,valid = hf.split_frame(ratios=[.7, .15])\n",
    "\n",
    "# For binary classification, response should be a factor\n",
    "valid[y] = valid[y].asfactor()\n",
    "test[y] = test[y].asfactor()\n",
    "train[y] = train[y].asfactor()\n",
    "\n",
    "gbm_params1 = {'learn_rate': [0.01, 0.1],\n",
    "                'max_depth': [3, 5, 9],\n",
    "                'sample_rate': [0.8, 1.0],\n",
    "                'col_sample_rate': [0.2, 0.5, 1.0]}\n",
    "\n",
    "# Train and validate a cartesian grid of GBMs\n",
    "gbm_grid1 = H2OGridSearch(model=H2OGradientBoostingEstimator(nfolds = 10),\n",
    "                          grid_id='gbm_grid1',\n",
    "                          hyper_params=gbm_params1)\n",
    "\n",
    "gbm_grid1.train(x=x, y=y,\n",
    "                training_frame=train,\n",
    "                validation_frame=valid,\n",
    "                ntrees=100,\n",
    "                seed=1)\n"
   ]
  },
  {
   "cell_type": "code",
   "execution_count": 14,
   "metadata": {},
   "outputs": [
    {
     "name": "stdout",
     "output_type": "stream",
     "text": [
      "       col_sample_rate learn_rate max_depth sample_rate            model_ids  \\\n",
      "0                  1.0        0.1         5         0.8   gbm_grid1_model_48   \n",
      "1                  0.5       0.01         9         1.0  gbm_grid1_model_140   \n",
      "2                  0.5        0.1         5         1.0  gbm_grid1_model_101   \n",
      "3                  1.0        0.1         5         1.0   gbm_grid1_model_30   \n",
      "4                  0.5       0.01         9         0.8   gbm_grid1_model_14   \n",
      "5                  1.0        0.1         9         0.8   gbm_grid1_model_90   \n",
      "6                  0.5       0.01         9         0.8   gbm_grid1_model_50   \n",
      "7                  1.0        0.1         9         1.0   gbm_grid1_model_72   \n",
      "8                  0.5        0.1         9         1.0   gbm_grid1_model_35   \n",
      "9                  0.5        0.1         9         1.0   gbm_grid1_model_71   \n",
      "10                 0.5        0.1         5         1.0   gbm_grid1_model_29   \n",
      "11                 0.5        0.1         5         1.0   gbm_grid1_model_65   \n",
      "12                 1.0       0.01         9         1.0   gbm_grid1_model_33   \n",
      "13                 0.2        0.1         9         1.0   gbm_grid1_model_34   \n",
      "14                 0.5        0.1         9         0.8   gbm_grid1_model_53   \n",
      "15                 0.2        0.1         9         0.8   gbm_grid1_model_88   \n",
      "16                 0.2        0.1         9         1.0  gbm_grid1_model_106   \n",
      "17                 0.2        0.1         9         0.8   gbm_grid1_model_52   \n",
      "18                 1.0        0.1         5         1.0  gbm_grid1_model_102   \n",
      "19                 1.0        0.1         9         0.8   gbm_grid1_model_18   \n",
      "20                 0.2        0.1         9         1.0  gbm_grid1_model_142   \n",
      "21                 1.0        0.1         9         0.8  gbm_grid1_model_126   \n",
      "22                 1.0        0.1         5         1.0  gbm_grid1_model_138   \n",
      "23                 0.2        0.1         9         0.8  gbm_grid1_model_124   \n",
      "24                 0.2        0.1         9         1.0   gbm_grid1_model_70   \n",
      "25                 0.5        0.1         9         1.0  gbm_grid1_model_143   \n",
      "26                 1.0       0.01         9         1.0   gbm_grid1_model_69   \n",
      "27                 0.5       0.01         9         1.0  gbm_grid1_model_104   \n",
      "28                 1.0        0.1         5         0.8   gbm_grid1_model_84   \n",
      "29                 1.0        0.1         9         1.0   gbm_grid1_model_36   \n",
      "..  ..             ...        ...       ...         ...                  ...   \n",
      "114                0.2       0.01         5         1.0   gbm_grid1_model_97   \n",
      "115                0.2       0.01         5         0.8   gbm_grid1_model_79   \n",
      "116                0.2       0.01         5         0.8    gbm_grid1_model_7   \n",
      "117                0.2       0.01         5         1.0   gbm_grid1_model_61   \n",
      "118                0.2       0.01         5         1.0   gbm_grid1_model_25   \n",
      "119                0.2       0.01         5         0.8   gbm_grid1_model_43   \n",
      "120                0.5       0.01         3         0.8   gbm_grid1_model_74   \n",
      "121                0.5       0.01         3         0.8  gbm_grid1_model_110   \n",
      "122                0.5       0.01         3         1.0   gbm_grid1_model_92   \n",
      "123                0.5       0.01         3         1.0  gbm_grid1_model_128   \n",
      "124                0.5       0.01         3         1.0   gbm_grid1_model_56   \n",
      "125                0.5       0.01         3         0.8    gbm_grid1_model_2   \n",
      "126                0.5       0.01         3         0.8   gbm_grid1_model_38   \n",
      "127                0.5       0.01         3         1.0   gbm_grid1_model_20   \n",
      "128                1.0       0.01         3         0.8  gbm_grid1_model_111   \n",
      "129                1.0       0.01         3         1.0   gbm_grid1_model_93   \n",
      "130                1.0       0.01         3         1.0  gbm_grid1_model_129   \n",
      "131                1.0       0.01         3         0.8   gbm_grid1_model_75   \n",
      "132                1.0       0.01         3         0.8    gbm_grid1_model_3   \n",
      "133                1.0       0.01         3         1.0   gbm_grid1_model_21   \n",
      "134                1.0       0.01         3         0.8   gbm_grid1_model_39   \n",
      "135                1.0       0.01         3         1.0   gbm_grid1_model_57   \n",
      "136                0.2       0.01         3         0.8   gbm_grid1_model_73   \n",
      "137                0.2       0.01         3         0.8  gbm_grid1_model_109   \n",
      "138                0.2       0.01         3         1.0  gbm_grid1_model_127   \n",
      "139                0.2       0.01         3         1.0   gbm_grid1_model_55   \n",
      "140                0.2       0.01         3         1.0   gbm_grid1_model_91   \n",
      "141                0.2       0.01         3         0.8   gbm_grid1_model_37   \n",
      "142                0.2       0.01         3         1.0   gbm_grid1_model_19   \n",
      "143                0.2       0.01         3         0.8    gbm_grid1_model_1   \n",
      "\n",
      "                    auc  \n",
      "0                   1.0  \n",
      "1                   1.0  \n",
      "2                   1.0  \n",
      "3                   1.0  \n",
      "4                   1.0  \n",
      "5                   1.0  \n",
      "6                   1.0  \n",
      "7                   1.0  \n",
      "8                   1.0  \n",
      "9                   1.0  \n",
      "10                  1.0  \n",
      "11                  1.0  \n",
      "12                  1.0  \n",
      "13                  1.0  \n",
      "14                  1.0  \n",
      "15                  1.0  \n",
      "16                  1.0  \n",
      "17                  1.0  \n",
      "18                  1.0  \n",
      "19                  1.0  \n",
      "20                  1.0  \n",
      "21                  1.0  \n",
      "22                  1.0  \n",
      "23                  1.0  \n",
      "24                  1.0  \n",
      "25                  1.0  \n",
      "26                  1.0  \n",
      "27                  1.0  \n",
      "28                  1.0  \n",
      "29                  1.0  \n",
      "..                  ...  \n",
      "114  0.9308228577669048  \n",
      "115  0.9303998695558939  \n",
      "116  0.9303283398350023  \n",
      "117  0.9299662170985815  \n",
      "118  0.9293130905189423  \n",
      "119  0.9285374802128523  \n",
      "120  0.8774229693622777  \n",
      "121  0.8771490899651103  \n",
      "122  0.8768881539865574  \n",
      "123  0.8768710286664929  \n",
      "124  0.8762516388659307  \n",
      "125  0.8762350513308824  \n",
      "126  0.8760984610511996  \n",
      "127  0.8757116086578998  \n",
      "128  0.8736203709131081  \n",
      "129   0.873325026369628  \n",
      "130   0.873244370520107  \n",
      "131   0.873221290210105  \n",
      "132  0.8731613352630192  \n",
      "133  0.8723857268046615  \n",
      "134  0.8723201773877173  \n",
      "135  0.8721837240493555  \n",
      "136  0.8652048090587381  \n",
      "137  0.8651576120446031  \n",
      "138  0.8650780129747674  \n",
      "139  0.8648383256694274  \n",
      "140  0.8648353689694639  \n",
      "141   0.864516644391621  \n",
      "142  0.8628492210750888  \n",
      "143  0.8625296723471132  \n",
      "\n",
      "[144 rows x 7 columns]\n"
     ]
    },
    {
     "data": {
      "text/plain": []
     },
     "execution_count": 14,
     "metadata": {},
     "output_type": "execute_result"
    }
   ],
   "source": [
    "gbm_gridperf1 = gbm_grid1.get_grid(sort_by = 'auc', decreasing = True)\n",
    "gbm_gridperf1"
   ]
  },
  {
   "cell_type": "code",
   "execution_count": 15,
   "metadata": {},
   "outputs": [],
   "source": [
    "# Grab the top GBM model, chosen by validation AUC\n",
    "best_gbm1 = gbm_gridperf1.models[0]\n",
    "\n",
    "# Now let's evaluate the model performance on a test set\n",
    "# so we get an honest estimate of top model performance\n",
    "best_gbm_perf1 = best_gbm1.model_performance(test)"
   ]
  },
  {
   "cell_type": "code",
   "execution_count": 16,
   "metadata": {},
   "outputs": [
    {
     "data": {
      "text/plain": [
       "1.0"
      ]
     },
     "execution_count": 16,
     "metadata": {},
     "output_type": "execute_result"
    }
   ],
   "source": [
    "best_gbm_perf1.auc()"
   ]
  }
 ],
 "metadata": {
  "kernelspec": {
   "display_name": "Python 3",
   "language": "python",
   "name": "python3"
  },
  "language_info": {
   "codemirror_mode": {
    "name": "ipython",
    "version": 3
   },
   "file_extension": ".py",
   "mimetype": "text/x-python",
   "name": "python",
   "nbconvert_exporter": "python",
   "pygments_lexer": "ipython3",
   "version": "3.7.3"
  }
 },
 "nbformat": 4,
 "nbformat_minor": 2
}
