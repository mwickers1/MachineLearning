{
 "cells": [
  {
   "cell_type": "markdown",
   "metadata": {},
   "source": [
    "# Week 6 - Lab\n",
    "\n",
    "This lab consists of an H2O modeling exercise.\n",
    "\n",
    "**Table of Contents**\n",
    "\n",
    "-   [Exercise](#exercise)\n",
    "-   [Deliverables](#deliverables)"
   ]
  },
  {
   "cell_type": "markdown",
   "metadata": {},
   "source": [
    "<a id='exercise'></a>\n",
    "## Exercise"
   ]
  },
  {
   "cell_type": "markdown",
   "metadata": {},
   "source": [
    "(1) Install H2O on your system in either R or python. Start H2O and connect (i.e. `h2o.init(ip=\"localhost\", port=54321`)."
   ]
  },
  {
   "cell_type": "markdown",
   "metadata": {},
   "source": [
    "(2) Using H2O, build a random forest model or gradient boosting machine to predict whether a patient has prostate cancer, or not. The dataset is provided in the Week 6 Resources folder and is called `prostate.csv`. The target is the column called `CAPSULE` (`0` for false, `1` for true).\n",
    "\n",
    "- Make sure to split your data into training and test sets. \n",
    "- Perform a [random grid search](http://docs.h2o.ai/h2o/latest-stable/h2o-docs/grid-search.html) over at least 10 hyper-parameter combinations.\n",
    "- 10-fold cross-validation should be conducted for each hyper-parameter combination.\n",
    "- Select the best model based on cross-validated AUC.\n",
    "- Report the AUC that the best model achieves on the test set. "
   ]
  },
  {
   "cell_type": "markdown",
   "metadata": {},
   "source": [
    "(3) Persist your final model to disk as a POJO."
   ]
  },
  {
   "cell_type": "markdown",
   "metadata": {},
   "source": [
    "<a id='deliverables'></a>\n",
    "## Deliverables"
   ]
  },
  {
   "cell_type": "markdown",
   "metadata": {},
   "source": [
    "- Your R/Python code and output in a text file (.txt or .pdf)\n",
    "- Your POJO (i.e. the .java file representing your model)"
   ]
  }
 ],
 "metadata": {
  "kernelspec": {
   "display_name": "Python 3",
   "language": "python",
   "name": "python3"
  },
  "language_info": {
   "codemirror_mode": {
    "name": "ipython",
    "version": 3
   },
   "file_extension": ".py",
   "mimetype": "text/x-python",
   "name": "python",
   "nbconvert_exporter": "python",
   "pygments_lexer": "ipython3",
   "version": "3.7.3"
  }
 },
 "nbformat": 4,
 "nbformat_minor": 2
}
