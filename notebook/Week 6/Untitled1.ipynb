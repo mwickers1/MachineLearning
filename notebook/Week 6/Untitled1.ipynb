{
 "cells": [
  {
   "cell_type": "code",
   "execution_count": 2,
   "metadata": {},
   "outputs": [
    {
     "name": "stderr",
     "output_type": "stream",
     "text": [
      "Installing package into 'C:/Users/melissa.wickers/Documents/R/win-library/3.6'\n",
      "(as 'lib' is unspecified)\n",
      "also installing the dependencies 'bitops', 'RCurl'\n",
      "\n"
     ]
    },
    {
     "name": "stdout",
     "output_type": "stream",
     "text": [
      "package 'bitops' successfully unpacked and MD5 sums checked\n",
      "package 'RCurl' successfully unpacked and MD5 sums checked\n",
      "package 'h2o' successfully unpacked and MD5 sums checked\n",
      "\n",
      "The downloaded binary packages are in\n",
      "\tC:\\Users\\melissa.wickers\\AppData\\Local\\Temp\\RtmpuGgPAD\\downloaded_packages\n"
     ]
    }
   ],
   "source": [
    "install.packages('h2o')"
   ]
  },
  {
   "cell_type": "code",
   "execution_count": 3,
   "metadata": {},
   "outputs": [
    {
     "name": "stderr",
     "output_type": "stream",
     "text": [
      "\n",
      "----------------------------------------------------------------------\n",
      "\n",
      "Your next step is to start H2O:\n",
      "    > h2o.init()\n",
      "\n",
      "For H2O package documentation, ask for help:\n",
      "    > ??h2o\n",
      "\n",
      "After starting H2O, you can use the Web UI at http://localhost:54321\n",
      "For more information visit http://docs.h2o.ai\n",
      "\n",
      "----------------------------------------------------------------------\n",
      "\n",
      "\n",
      "Attaching package: 'h2o'\n",
      "\n",
      "The following objects are masked from 'package:stats':\n",
      "\n",
      "    cor, sd, var\n",
      "\n",
      "The following objects are masked from 'package:base':\n",
      "\n",
      "    %*%, %in%, &&, ||, apply, as.factor, as.numeric, colnames,\n",
      "    colnames<-, ifelse, is.character, is.factor, is.numeric, log,\n",
      "    log10, log1p, log2, round, signif, trunc\n",
      "\n"
     ]
    },
    {
     "name": "stdout",
     "output_type": "stream",
     "text": [
      " Connection successful!\n",
      "\n",
      "R is connected to the H2O cluster: \n",
      "    H2O cluster uptime:         1 hours 52 minutes \n",
      "    H2O cluster timezone:       America/New_York \n",
      "    H2O data parsing timezone:  UTC \n",
      "    H2O cluster version:        3.26.0.2 \n",
      "    H2O cluster version age:    23 days  \n",
      "    H2O cluster name:           H2O_from_python_melissa_wickers_bnepnz \n",
      "    H2O cluster total nodes:    1 \n",
      "    H2O cluster total memory:   6.54 GB \n",
      "    H2O cluster total cores:    12 \n",
      "    H2O cluster allowed cores:  12 \n",
      "    H2O cluster healthy:        TRUE \n",
      "    H2O Connection ip:          localhost \n",
      "    H2O Connection port:        54321 \n",
      "    H2O Connection proxy:       NA \n",
      "    H2O Internal Security:      FALSE \n",
      "    H2O API Extensions:         Amazon S3, Algos, AutoML, Core V3, Core V4 \n",
      "    R Version:                  R version 3.6.1 (2019-07-05) \n",
      "\n"
     ]
    }
   ],
   "source": [
    "library(h2o)\n",
    "\n",
    "h2o.init()"
   ]
  },
  {
   "cell_type": "code",
   "execution_count": 8,
   "metadata": {},
   "outputs": [
    {
     "name": "stdout",
     "output_type": "stream",
     "text": [
      "  |======================================================================| 100%\n",
      "\n",
      "ERROR: Unexpected HTTP Status code: 400 Bad Request (url = http://localhost:54321/99/Rapids)\n",
      "\n",
      "java.lang.IllegalArgumentException\n",
      " [1] \"java.lang.IllegalArgumentException: Row slicing requires a number-list as the last argument, but found a class water.rapids.ast.params.AstStrList\"\n",
      " [2] \"    water.rapids.ast.prims.mungers.AstRowSlice.apply(AstRowSlice.java:109)\"                                                                       \n",
      " [3] \"    water.rapids.ast.prims.mungers.AstRowSlice.apply(AstRowSlice.java:20)\"                                                                        \n",
      " [4] \"    water.rapids.ast.AstExec.exec(AstExec.java:63)\"                                                                                               \n",
      " [5] \"    water.rapids.ast.prims.assign.AstTmpAssign.apply(AstTmpAssign.java:48)\"                                                                       \n",
      " [6] \"    water.rapids.ast.prims.assign.AstTmpAssign.apply(AstTmpAssign.java:17)\"                                                                       \n",
      " [7] \"    water.rapids.ast.AstExec.exec(AstExec.java:63)\"                                                                                               \n",
      " [8] \"    water.rapids.Session.exec(Session.java:85)\"                                                                                                   \n",
      " [9] \"    water.rapids.Rapids.exec(Rapids.java:94)\"                                                                                                     \n",
      "[10] \"    water.api.RapidsHandler.exec(RapidsHandler.java:38)\"                                                                                          \n",
      "[11] \"    sun.reflect.GeneratedMethodAccessor6.invoke(Unknown Source)\"                                                                                  \n",
      "[12] \"    sun.reflect.DelegatingMethodAccessorImpl.invoke(Unknown Source)\"                                                                              \n",
      "[13] \"    java.lang.reflect.Method.invoke(Unknown Source)\"                                                                                              \n",
      "[14] \"    water.api.Handler.handle(Handler.java:60)\"                                                                                                    \n",
      "[15] \"    water.api.RequestServer.serve(RequestServer.java:462)\"                                                                                        \n",
      "[16] \"    water.api.RequestServer.doGeneric(RequestServer.java:295)\"                                                                                    \n",
      "[17] \"    water.api.RequestServer.doPost(RequestServer.java:221)\"                                                                                       \n",
      "[18] \"    javax.servlet.http.HttpServlet.service(HttpServlet.java:755)\"                                                                                 \n",
      "[19] \"    javax.servlet.http.HttpServlet.service(HttpServlet.java:848)\"                                                                                 \n",
      "[20] \"    org.eclipse.jetty.servlet.ServletHolder.handle(ServletHolder.java:684)\"                                                                       \n",
      "[21] \"    org.eclipse.jetty.servlet.ServletHandler.doHandle(ServletHandler.java:501)\"                                                                   \n",
      "[22] \"    org.eclipse.jetty.server.handler.ContextHandler.doHandle(ContextHandler.java:1086)\"                                                           \n",
      "[23] \"    org.eclipse.jetty.servlet.ServletHandler.doScope(ServletHandler.java:427)\"                                                                    \n",
      "[24] \"    org.eclipse.jetty.server.handler.ContextHandler.doScope(ContextHandler.java:1020)\"                                                            \n",
      "[25] \"    org.eclipse.jetty.server.handler.ScopedHandler.handle(ScopedHandler.java:135)\"                                                                \n",
      "[26] \"    org.eclipse.jetty.server.handler.HandlerCollection.handle(HandlerCollection.java:154)\"                                                        \n",
      "[27] \"    org.eclipse.jetty.server.handler.HandlerWrapper.handle(HandlerWrapper.java:116)\"                                                              \n",
      "[28] \"    water.webserver.jetty8.Jetty8ServerAdapter$LoginHandler.handle(Jetty8ServerAdapter.java:119)\"                                                 \n",
      "[29] \"    org.eclipse.jetty.server.handler.HandlerCollection.handle(HandlerCollection.java:154)\"                                                        \n",
      "[30] \"    org.eclipse.jetty.server.handler.HandlerWrapper.handle(HandlerWrapper.java:116)\"                                                              \n",
      "[31] \"    org.eclipse.jetty.server.Server.handle(Server.java:370)\"                                                                                      \n",
      "[32] \"    org.eclipse.jetty.server.AbstractHttpConnection.handleRequest(AbstractHttpConnection.java:494)\"                                               \n",
      "[33] \"    org.eclipse.jetty.server.BlockingHttpConnection.handleRequest(BlockingHttpConnection.java:53)\"                                                \n",
      "[34] \"    org.eclipse.jetty.server.AbstractHttpConnection.content(AbstractHttpConnection.java:984)\"                                                     \n",
      "[35] \"    org.eclipse.jetty.server.AbstractHttpConnection$RequestHandler.content(AbstractHttpConnection.java:1045)\"                                     \n",
      "[36] \"    org.eclipse.jetty.http.HttpParser.parseNext(HttpParser.java:861)\"                                                                             \n",
      "[37] \"    org.eclipse.jetty.http.HttpParser.parseAvailable(HttpParser.java:236)\"                                                                        \n",
      "[38] \"    org.eclipse.jetty.server.BlockingHttpConnection.handle(BlockingHttpConnection.java:72)\"                                                       \n",
      "[39] \"    org.eclipse.jetty.server.bio.SocketConnector$ConnectorEndPoint.run(SocketConnector.java:264)\"                                                 \n",
      "[40] \"    org.eclipse.jetty.util.thread.QueuedThreadPool.runJob(QueuedThreadPool.java:608)\"                                                             \n",
      "[41] \"    org.eclipse.jetty.util.thread.QueuedThreadPool$3.run(QueuedThreadPool.java:543)\"                                                              \n",
      "[42] \"    java.lang.Thread.run(Unknown Source)\"                                                                                                         \n",
      "\n"
     ]
    },
    {
     "ename": "ERROR",
     "evalue": "Error in .h2o.doSafeREST(h2oRestApiVersion = h2oRestApiVersion, urlSuffix = page, : \n\nERROR MESSAGE:\n\nRow slicing requires a number-list as the last argument, but found a class water.rapids.ast.params.AstStrList\n\n\n",
     "output_type": "error",
     "traceback": [
      "Error in .h2o.doSafeREST(h2oRestApiVersion = h2oRestApiVersion, urlSuffix = page, : \n\nERROR MESSAGE:\n\nRow slicing requires a number-list as the last argument, but found a class water.rapids.ast.params.AstStrList\n\n\nTraceback:\n",
      "1. h2o.grid(\"gbm\", x = x, y = y, grid_id = \"gbm_grid1\", training_frame = train, \n .     validation_frame = valid, ntrees = 100, seed = 1, hyper_params = gbm_params1)",
      "2. .h2o.prepareModelParameters(algo = algorithm, params = dots, \n .     is_supervised = is_supervised)",
      "3. .verify_dataxy(params$training_frame, x, y)",
      "4. colnames(chk.H2OFrame(data))",
      "5. names.H2OFrame(x)",
      "6. .fetch.data(x, 1L)",
      "7. .h2o.__remoteSend(paste0(.h2o.__FRAMES, \"/\", h2o.getId(x), \"?row_count=\", \n .     M, nstr))",
      "8. .h2o.doSafeREST(h2oRestApiVersion = h2oRestApiVersion, urlSuffix = page, \n .     parms = .params, method = method)",
      "9. stopifnot(is.character(urlSuffix))",
      "10. is.character(urlSuffix)",
      "11. is.H2OFrame(x)",
      "12. paste0(.h2o.__FRAMES, \"/\", h2o.getId(x), \"?row_count=\", M, nstr)",
      "13. h2o.getId(x)",
      "14. .eval.frame(x)",
      "15. .eval.driver(x)",
      "16. .h2o.__remoteSend(.h2o.__RAPIDS, h2oRestApiVersion = 99, ast = exec_str, \n  .     session_id = h2o.getConnection()@mutable$session_id, method = \"POST\")",
      "17. .h2o.doSafeREST(h2oRestApiVersion = h2oRestApiVersion, urlSuffix = page, \n  .     parms = .params, method = method)",
      "18. stop(msg)"
     ]
    }
   ],
   "source": [
    "\n",
    "\n",
    "# Import a sample binary outcome dataset into H2O\n",
    "data <- h2o.importFile(\"prostate.csv\")\n",
    "\n",
    "\n",
    "# Identify predictors and response\n",
    "y <- \"CAPSULE\"\n",
    "x <- setdiff(names(data), y)\n",
    "\n",
    "# For binary classification, response should be a factor\n",
    "data[,y] <- as.factor(data[,y])\n",
    "#test[,y] <- as.factor(test[,y])\n",
    "\n",
    "# Split data into train & validation\n",
    "splitSample <- h20.splitframe(1:3, size=nrow(data), prob=c(0.7,0.15,0.15), replace = TRUE)\n",
    "train <- data[splitSample==1,]\n",
    "valid <- data[splitSample==2,]\n",
    "test <- data[splitSample==3,]\n",
    "\n",
    "# GBM hyperparamters\n",
    "\n",
    "gbm_params1 <- list(learn_rate = c(0.01, 0.1),\n",
    "                    max_depth = c(3, 5, 9),\n",
    "                    sample_rate = c(0.8, 1.0),\n",
    "                    col_sample_rate = c(0.2, 0.5, 1.0))\n",
    "\n",
    "# Train and validate a cartesian grid of GBMs\n",
    "gbm_grid1 <- h2o.grid(\"gbm\", x = x, y = y,\n",
    "                      grid_id = \"gbm_grid1\",\n",
    "                      training_frame = train,\n",
    "                      validation_frame = valid,\n",
    "                      ntrees = 100,\n",
    "                      seed = 1,\n",
    "                      hyper_params = gbm_params1)\n",
    "\n",
    "\n"
   ]
  }
 ],
 "metadata": {
  "kernelspec": {
   "display_name": "R",
   "language": "R",
   "name": "ir"
  },
  "language_info": {
   "codemirror_mode": "r",
   "file_extension": ".r",
   "mimetype": "text/x-r-source",
   "name": "R",
   "pygments_lexer": "r",
   "version": "3.6.1"
  }
 },
 "nbformat": 4,
 "nbformat_minor": 2
}
