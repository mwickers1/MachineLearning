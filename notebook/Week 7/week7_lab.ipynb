{
 "cells": [
  {
   "cell_type": "markdown",
   "metadata": {},
   "source": [
    "# Week 7 - Lab\n",
    "\n",
    "This lab consists of an naive Bayes modeling exercise and a AWS Lambda exercise.\n",
    "\n",
    "**Table of Contents**\n",
    "\n",
    "-   [Naive Bayes Exercise](#nb)\n",
    "-   [AWS Lambda Exercise](#lambda)\n",
    "-   [Deliverables](#deliverables)"
   ]
  },
  {
   "cell_type": "markdown",
   "metadata": {},
   "source": [
    "<a id='nb'></a>\n",
    "## Naive Bayes Exercise"
   ]
  },
  {
   "cell_type": "markdown",
   "metadata": {},
   "source": [
    "Using the **healthcare-job-postings-data-from-emedcareers.zip** dataset from Exercise 1 from the Week 2 lab assignment, construct a Naive Bayes classifier. The response is the job category. Vectorize the job description column and use the resulting columns as your predictors. Treat the predictors as being drawn from a multinomial distribution. Make sure you split the dataset into training in test sets and evaluate the model on the test set. Report the accuracy. Use any python or R package to complete this exercise. "
   ]
  },
  {
   "cell_type": "markdown",
   "metadata": {},
   "source": [
    "<a id='lambda'></a>\n",
    "## AWS Lamda Exercise"
   ]
  },
  {
   "cell_type": "markdown",
   "metadata": {},
   "source": [
    "Repeat the step we conducted in lecture, except name your Lambda function to `CS4315Summer2019-Lambda-YourLastName`, substituting your last name. Edit the `lambda_handler` to return your last name, instead of mine. Provide me your endpoint. I will test that your endpoint is up and returns your last name."
   ]
  },
  {
   "cell_type": "markdown",
   "metadata": {},
   "source": [
    "<a id='deliverables'></a>\n",
    "## Deliverables"
   ]
  },
  {
   "cell_type": "markdown",
   "metadata": {},
   "source": [
    "- Your R/Python code and output in a text file (.txt or .pdf)\n",
    "- Your Lamda endpoint"
   ]
  }
 ],
 "metadata": {
  "kernelspec": {
   "display_name": "Python 3",
   "language": "python",
   "name": "python3"
  },
  "language_info": {
   "codemirror_mode": {
    "name": "ipython",
    "version": 3
   },
   "file_extension": ".py",
   "mimetype": "text/x-python",
   "name": "python",
   "nbconvert_exporter": "python",
   "pygments_lexer": "ipython3",
   "version": "3.7.3"
  }
 },
 "nbformat": 4,
 "nbformat_minor": 2
}
