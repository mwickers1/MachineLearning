{
 "cells": [
  {
   "cell_type": "markdown",
   "metadata": {},
   "source": [
    "# Week 4 - Lab\n",
    "\n",
    "This lab consists of practicing some of the mechanics of interacting with S3 and RDS instances programatically. We'll also practice the clustering techniques using R packages.\n",
    "\n",
    "**Table of Contents**\n",
    "\n",
    "-   [Exercise](#exercise)\n",
    "-   [Deliverables](#deliverables)"
   ]
  },
  {
   "cell_type": "markdown",
   "metadata": {},
   "source": [
    "<a id='exercise'></a>\n",
    "## Exercise"
   ]
  },
  {
   "cell_type": "markdown",
   "metadata": {},
   "source": [
    "(1) Create a MySQL RDS instance using the following CloudFormation template. Before you push this stack to the cloud, make sure you:\n",
    "\n",
    "- Replace any instance of **Instructor** with your last name\n",
    "- Update your `DBName`, `MasterUsername`, and `MasterUserPassword` as you see fit\n",
    "-\n",
    "\n",
    "```YAML\n",
    "AWSTemplateFormatVersion: '2010-09-09'\n",
    "Description: 'Lab 4 - MySQL Database'\n",
    "Resources:\n",
    "  CS4315Summer2019Lab4RDSWickers:\n",
    "    DeletionPolicy: Snapshot\n",
    "    Properties:\n",
    "      AllocatedStorage: 100\n",
    "      DBInstanceClass: db.m4.large\n",
    "      DBName: Lab4RDSWickers\n",
    "      Engine: MySQL\n",
    "      EngineVersion: '5.6.40'\n",
    "      MasterUserPassword: wickers5\n",
    "      MasterUsername: wickers\n",
    "      PubliclyAccessible: true\n",
    "      Tags:\n",
    "        -\n",
    "          Key: Name\n",
    "          Value: 'CS4315Summer2019-Lab4RDS-Wickers'\n",
    "      DBSubnetGroupName: CS4315Summer2019Lab4SubnetGroupWickers\n",
    "      VPCSecurityGroups:\n",
    "      - !GetAtt CS4315Summer2019Lab4SecurityGroupWickers.GroupId\n",
    "    Type: \"AWS::RDS::DBInstance\"\n",
    "  CS4315Summer2019Lab4SubnetGroupWickers:\n",
    "    Type: AWS::RDS::DBSubnetGroup\n",
    "    Properties:\n",
    "      DBSubnetGroupDescription: 'Subnet Group for RDS Instance'\n",
    "      DBSubnetGroupName: CS4315Summer2019Lab4SubnetGroupWickers\n",
    "      SubnetIds:\n",
    "        - 'subnet-09cd4d85c87fbbfa0'\n",
    "        - 'subnet-08dd463ca4017daa4'\n",
    "      Tags:\n",
    "        -\n",
    "          Key: Name\n",
    "          Value: 'CS4315Summer2019-Lab4SubnetGroup-Wickers'\n",
    "  CS4315Summer2019Lab4SecurityGroupWickers:\n",
    "    Type: AWS::EC2::SecurityGroup\n",
    "    Properties:\n",
    "      GroupDescription: Inbound and outbound rules for Lab4 MySQL DB Instance\n",
    "      SecurityGroupEgress:\n",
    "      - CidrIp: '0.0.0.0/0'\n",
    "        Description: All\n",
    "        FromPort: 0\n",
    "        IpProtocol: tcp\n",
    "        ToPort: 65535\n",
    "      SecurityGroupIngress:\n",
    "      - CidrIp: '0.0.0.0/0'\n",
    "        Description: MySQL\n",
    "        FromPort: 3306\n",
    "        IpProtocol: tcp\n",
    "        ToPort: 3306\n",
    "      Tags:\n",
    "      - Key: Name\n",
    "        Value: 'CS4315Summer2019-Lab4SecurityGroup-Wickers'\n",
    "      VpcId: 'vpc-00b2b0d347ea0e3cc'\n",
    "```"
   ]
  },
  {
   "cell_type": "markdown",
   "metadata": {},
   "source": [
    "(2) Using Boto 3, download the Iris dataset from the S3 bucket `cs4315summer2019-s3-eckstrand`."
   ]
  },
  {
   "cell_type": "markdown",
   "metadata": {},
   "source": [
    "(3) **(Optional)** Connect to the database using a python package of your choosing (i.e. `sqlalchemy`) and create a table for the Iris dataset. "
   ]
  },
  {
   "cell_type": "markdown",
   "metadata": {},
   "source": [
    "(4) **(Optional)** Insert the rows of the Iris dataset into the table you just created."
   ]
  },
  {
   "cell_type": "markdown",
   "metadata": {},
   "source": [
    "(5) **(Optional)** Using an R package of your choosing, fetch the Iris dataset from the table you just created and put it into a data.frame."
   ]
  },
  {
   "cell_type": "markdown",
   "metadata": {},
   "source": [
    "(6) Using R packages of your choosing, re-run the clustering steps in the lecture for the K-means, DBSCAN, and Agglomerative clustering algorithms on iris.csv."
   ]
  },
  {
   "cell_type": "markdown",
   "metadata": {},
   "source": [
    "<a id='deliverables'></a>\n",
    "## Deliverables"
   ]
  },
  {
   "cell_type": "markdown",
   "metadata": {},
   "source": [
    "- Your Cloudformation template\n",
    "- R and Python code and output in a .txt file"
   ]
  }
 ],
 "metadata": {
  "kernelspec": {
   "display_name": "Python 3",
   "language": "python",
   "name": "python3"
  },
  "language_info": {
   "codemirror_mode": {
    "name": "ipython",
    "version": 3
   },
   "file_extension": ".py",
   "mimetype": "text/x-python",
   "name": "python",
   "nbconvert_exporter": "python",
   "pygments_lexer": "ipython3",
   "version": "3.7.3"
  }
 },
 "nbformat": 4,
 "nbformat_minor": 2
}
