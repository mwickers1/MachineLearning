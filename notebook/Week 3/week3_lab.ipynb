{
 "cells": [
  {
   "cell_type": "markdown",
   "metadata": {},
   "source": [
    "# Week 3 - Lab\n",
    "\n",
    "This lab consists of a couple different exercises. First, we'll build a couple neural networks. In the second exercise we'll execute a provided CloudFormation template.\n",
    "\n",
    "**Table of Contents**\n",
    "\n",
    "-   [Exercise 1](#exercise-1)\n",
    "    -   [Cloud Formation](#cloud-formation)\n",
    "-   [Exercise 2](#exercise-2)\n",
    "-   [Deliverables](#deliverables)"
   ]
  },
  {
   "cell_type": "markdown",
   "metadata": {},
   "source": [
    "<a id='exercise-1'></a>\n",
    "## Exercise 1"
   ]
  },
  {
   "cell_type": "markdown",
   "metadata": {},
   "source": [
    "<a id='cloud-formation'></a>\n",
    "### Cloud Formation"
   ]
  },
  {
   "cell_type": "markdown",
   "metadata": {},
   "source": [
    "Run the following Cloudformation template to create an EC2 instance that exposes a Jupyter Hub server.\n",
    "\n",
    "```YAML\n",
    "AWSTemplateFormatVersion: '2010-09-09'\n",
    "Description: 'GPU-based data science toolbox with RStudio Server'\n",
    "Resources:\n",
    "  GPUInstance:\n",
    "    Type: 'AWS::EC2::Instance'\n",
    "    Properties:\n",
    "      InstanceType: 'p2.xlarge'\n",
    "      ImageId: 'ami-0174e69c12bae5410'\n",
    "      NetworkInterfaces: \n",
    "        - AssociatePublicIpAddress: true\n",
    "          DeviceIndex: 0\n",
    "          GroupSet:\n",
    "            - Ref: CS4315Summer2019SecurityGroupLab3Instructor\n",
    "          SubnetId: 'subnet-09e1bc3eb37714763'\n",
    "      UserData: \n",
    "        Fn::Base64: !Sub |\n",
    "          #!/bin/bash\n",
    "\n",
    "          # Install system-wide tensorflow\n",
    "          /usr/local/bin/pip3 install tensorflow-gpu==1.10.0\n",
    "\n",
    "          # R\n",
    "          echo \"deb http://cran.rstudio.com/bin/linux/ubuntu xenial/\" | sudo tee -a /etc/apt/sources.list\n",
    "          gpg --keyserver keyserver.ubuntu.com --recv-key E298A3A825C0D65DFD57CBB651716619E084DAB9\n",
    "          gpg -a --export E298A3A825C0D65DFD57CBB651716619E084DAB9 | sudo apt-key add -\n",
    "          apt-get update\n",
    "          apt-get -y install r-base\n",
    "\n",
    "          # Install system-wide R Packages\n",
    "          R -e 'install.packages(\"devtools\")'\n",
    "          R -e 'devtools::install_github(\"rstudio/reticulate\"); devtools::install_github(\"rstudio/keras\")'\n",
    "          R -e 'library(keras); install_keras(tensorflow=\"gpu\")'\n",
    "          \n",
    "          # R Studio Server\n",
    "          apt-get -y install gdebi-core\n",
    "          wget https://download2.rstudio.org/server/trusty/amd64/rstudio-server-1.2.1335-amd64.deb\n",
    "          gdebi --non-interactive rstudio-server-1.2.1335-amd64.deb\n",
    "\n",
    "          # User Setup\n",
    "          users=\"eric.eckstrand blah.blah\"\n",
    "          for i in $users; do useradd -m -d /home/$i -s /bin/bash $i; done\n",
    "          for i in $users; do usermod --password $(openssl passwd -1 $i) $i; done\n",
    "\n",
    "          # Include CUDA libraries in shared library location\n",
    "          sed -i '1iLD_LIBRARY_PATH=\"/usr/local/cuda/lib64\"' /usr/lib/R/etc/ldpaths\n",
    "          ldconfig\n",
    "          ldconfig /usr/local/cuda/lib64\n",
    "          ldconfig /usr/local/cuda/lib\n",
    "\n",
    "          # Restart RStudio Server\n",
    "          rstudio-server stop\n",
    "          rstudio-server start\n",
    "      Tags:\n",
    "        -\n",
    "          Key: Name\n",
    "          Value: 'CS4315Summer2019-Lab3-Instructor'\n",
    "      KeyName: 'CS4315Summer2019-Key-Share'\n",
    "\n",
    "  CS4315Summer2019SecurityGroupLab3Instructor:\n",
    "    Type: AWS::EC2::SecurityGroup\n",
    "    Properties:\n",
    "      GroupDescription: Inbound and outbound rules for CS4315 GPU EC2 instance\n",
    "      SecurityGroupEgress:\n",
    "      - CidrIp: '0.0.0.0/0'\n",
    "        Description: All\n",
    "        FromPort: 0\n",
    "        IpProtocol: tcp\n",
    "        ToPort: 65535\n",
    "      SecurityGroupIngress:\n",
    "      - CidrIp: '0.0.0.0/0'\n",
    "        Description: All\n",
    "        FromPort: 0\n",
    "        IpProtocol: tcp\n",
    "        ToPort: 65535\n",
    "      Tags:\n",
    "      - Key: Name\n",
    "        Value: 'CS4315Summer2019-Lab3SecurityGroup-Instructor'\n",
    "      VpcId: 'vpc-00b2b0d347ea0e3cc'\n",
    "```"
   ]
  },
  {
   "cell_type": "markdown",
   "metadata": {},
   "source": [
    "<a id='bonus'></a>\n",
    "## Bonus (Optional)"
   ]
  },
  {
   "cell_type": "markdown",
   "metadata": {},
   "source": [
    "For 10 extra points, repeat the Brazilian Coins (Classification) steps from the lecture on the R Studio instance you created above, or some other R Studio instance. Use the `keras` library for R. `Warning` keras on R can be troublesome to install. Good luck!  Provide your code and output in a text document."
   ]
  },
  {
   "cell_type": "markdown",
   "metadata": {},
   "source": [
    "<a id='deliverables'></a>\n",
    "## Deliverables"
   ]
  },
  {
   "cell_type": "markdown",
   "metadata": {},
   "source": [
    "- Your Cloudformation template for Exercise 1. You should add me as an RStudio user. I will log onto your instance to check that it works."
   ]
  },
  {
   "cell_type": "code",
   "execution_count": null,
   "metadata": {},
   "outputs": [],
   "source": []
  }
 ],
 "metadata": {
  "kernelspec": {
   "display_name": "Python 2",
   "language": "python",
   "name": "python2"
  },
  "language_info": {
   "codemirror_mode": {
    "name": "ipython",
    "version": 2
   },
   "file_extension": ".py",
   "mimetype": "text/x-python",
   "name": "python",
   "nbconvert_exporter": "python",
   "pygments_lexer": "ipython2",
   "version": "2.7.16"
  }
 },
 "nbformat": 4,
 "nbformat_minor": 2
}
