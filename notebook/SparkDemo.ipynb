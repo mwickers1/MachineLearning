{
 "cells": [
  {
   "cell_type": "markdown",
   "metadata": {},
   "source": [
    "# Week 7\n",
    "\n",
    "**Table of Contents**\n",
    "\n",
    "-   [Spark](#spark)\n",
    "    -   [Architecture](#architecture)\n",
    "    -   [Cluster Creation](#cluster)\n",
    "    -   [Spark Basics](#basics)\n",
    "    -   [City Bike Demonstration](#demo) "
   ]
  },
  {
   "cell_type": "markdown",
   "metadata": {},
   "source": [
    "<a id='spark'></a>\n",
    "## Spark"
   ]
  },
  {
   "cell_type": "markdown",
   "metadata": {},
   "source": [
    "[Apache Spark](https://spark.apache.org/) is an in-memory, distributed analytics platform. You can perform SQL operations on structured data inside of Spark with [Spark SQL](https://spark.apache.org/sql/). The Spark platform also includes [Spark MLlib](https://spark.apache.org/mllib/), which is a scalable machine learning library, similar to H2O. In this section, we'll cover some of the basics of Spark architecture and how it can be harnessed to perform machine learning at scale."
   ]
  },
  {
   "cell_type": "markdown",
   "metadata": {},
   "source": [
    "<a id='architecture'></a>\n",
    "### Architecture"
   ]
  },
  {
   "cell_type": "markdown",
   "metadata": {},
   "source": [
    "The Spark system consists of a *cluster manager*, one or more *worker nodes*, and a *driver program*. The diver program, or application, contains a single *Spark Context*, which is connected to a cluster manager. The cluster manager is responsible for acquiring resources, or executors, for the driver program. The manager also distributes driver program tasks issued by the Spark Context to the executors on the worker nodes. Each executor is its own Java process and it can run tasks in multiple threads. Note that a cluster manager can manage multiple Spark driver programs, or applications, but each application has its own set of executors, which are independent Java processes running on the same worker nodes in the cluster."
   ]
  },
  {
   "cell_type": "markdown",
   "metadata": {},
   "source": [
    "Here's a diagram of the architecture described above."
   ]
  },
  {
   "cell_type": "code",
   "execution_count": 1,
   "metadata": {},
   "outputs": [
    {
     "data": {
      "image/png": "[encoded data removed]",
      "text/plain": [
       "<IPython.core.display.Image object>"
      ]
     },
     "execution_count": 1,
     "metadata": {},
     "output_type": "execute_result"
    }
   ],
   "source": [
    "from IPython.display import Image\n",
    "Image(filename='cluster-overview.png') "
   ]
  },
  {
   "cell_type": "markdown",
   "metadata": {},
   "source": [
    "Spark supports an number of different kinds of cluster managers, including [Apache Mesos](https://spark.apache.org/docs/latest/running-on-mesos.html), [Hadoop YARN](https://spark.apache.org/docs/latest/running-on-yarn.html), and [Kubernetes](https://spark.apache.org/docs/latest/running-on-kubernetes.html). We're going to create a [Standalone](https://spark.apache.org/docs/latest/spark-standalone.html) cluster in which the cluster manager is referred to as the *master*. "
   ]
  },
  {
   "cell_type": "markdown",
   "metadata": {},
   "source": [
    "<a id='cluster'></a>\n",
    "### Cluster Creation"
   ]
  },
  {
   "cell_type": "markdown",
   "metadata": {},
   "source": [
    "Here's an example of a CloudFormation template, which established and configures some of the pieces described above.\n",
    "\n",
    "```YAML\n",
    "AWSTemplateFormatVersion: '2010-09-09'\n",
    "Description: 'Spark Cluster'\n",
    "Resources:\n",
    "  SparkMaster:\n",
    "    Type: 'AWS::EC2::Instance'\n",
    "    Properties:\n",
    "      InstanceType: 't2.micro'\n",
    "      ImageId: 'ami-0ff4fcd0d2b29437e'\n",
    "      NetworkInterfaces: \n",
    "        - DeviceIndex: 0\n",
    "          GroupSet: \n",
    "            - Ref: CS4315Summer2019SecurityGroupSpark\n",
    "          PrivateIpAddress : '192.168.28.184'\n",
    "          SubnetId: 'subnet-09e1bc3eb37714763'\n",
    "      BlockDeviceMappings:\n",
    "      - DeviceName: '/dev/sda1'\n",
    "        Ebs:\n",
    "          VolumeSize: 300\n",
    "      UserData: \n",
    "        Fn::Base64: !Sub |\n",
    "          #!/bin/bash\n",
    "          # Resize root volume\n",
    "          /sbin/resize2fs /dev/sda\n",
    "\n",
    "          # Install Jupyter Hub Server\n",
    "          apt-get update\n",
    "          apt-get -y install python3-pip\n",
    "          apt-get -y install python3 python-dev python3-dev build-essential libssl-dev libffi-dev libxml2-dev libxslt1-dev zlib1g-dev python-pip\n",
    "          curl -sL https://deb.nodesource.com/setup_8.x -o nodesource_setup.sh\n",
    "          bash nodesource_setup.sh\n",
    "          apt-get -y install nodejs\n",
    "          hash -r\n",
    "          npm install -g configurable-http-proxy\n",
    "          pip3 install jupyterhub\n",
    "          pip3 install notebook==5.7.4\n",
    "          # tornado v. 6 is broken\n",
    "          sudo pip3 uninstall tornado\n",
    "          sudo pip3 install tornado==5.1.1\n",
    "          # global install of other python packages\n",
    "          pip3 install --no-cache-dir pyspark --target /usr/local/lib/python3.5/dist-packages/\n",
    "          mkdir /srv/jupyterhub # for all security and runtime files\n",
    "          mkdir /etc/jupyterhub # for all configuration files\n",
    "          # Set up jupyter hub as a service\n",
    "          echo \"c.JupyterHub.base_url='/'\" >> /etc/jupyterhub/jupyterhub_config.py\n",
    "          echo \"c.JupyterHub.port = 80\" >> /etc/jupyterhub/jupyterhub_config.py\n",
    "          printf 'After=syslog.target network.target\\n\\n[Service]\\nUser=root\\nExecStart=/usr/local/bin/jupyterhub -f /etc/jupyterhub/jupyterhub_config.py\\n\\n[Install]\\nWantedBy=multi-user.target\\n' >> /etc/systemd/system/jupyterhub.service\n",
    "          systemctl enable jupyterhub.service\n",
    "          systemctl daemon-reload\n",
    "          systemctl restart jupyterhub.service\n",
    "          # User setup\n",
    "          users=\"eric.eckstrand\"\n",
    "          for i in $users; do sudo useradd -m -d /home/$i -s /bin/bash $i; done\n",
    "          for i in $users; do sudo usermod --password $(openssl passwd -1 $i) $i; done\n",
    "\n",
    "          # Download Java JDK from S3\n",
    "          apt-get -y update\n",
    "          apt -y install awscli\n",
    "          aws s3 cp s3://dsag-java-8/jdk-8u221-linux-x64.tar.gz ./ --region us-east-2 --no-sign-request\n",
    "          tar -xvf jdk-8u221-linux-x64.tar.gz\n",
    "          mkdir -p /usr/lib/jvm\n",
    "          mv ./jdk1.8.0_221 /usr/lib/jvm/\n",
    "          update-alternatives --install \"/usr/bin/java\" \"java\" \"/usr/lib/jvm/jdk1.8.0_221/bin/java\" 1\n",
    "          update-alternatives --install \"/usr/bin/javac\" \"javac\" \"/usr/lib/jvm/jdk1.8.0_221/bin/javac\" 1\n",
    "          chmod a+x /usr/bin/java\n",
    "          chmod a+x /usr/bin/javac\n",
    "          chown -R root:root /usr/lib/jvm/jdk1.8.0_221\n",
    "\n",
    "          # Download Spark and start it up\n",
    "          wget http://www-us.apache.org/dist/spark/spark-2.4.3/spark-2.4.3-bin-hadoop2.7.tgz\n",
    "          tar xvf spark-2.4.3-bin-hadoop2.7.tgz\n",
    "          mv spark-2.4.3-bin-hadoop2.7 /usr/local/spark\n",
    "          cd /usr/local/spark/conf\n",
    "          cp spark-env.sh.template spark-env.sh\n",
    "          echo \"export SPARK_MASTER_HOST='192.168.28.184'\" >> spark-env.sh\n",
    "          echo \"192.168.28.184 master\" >> /etc/hosts\n",
    "          echo \"192.168.28.243 worker0\" >> /etc/hosts\n",
    "          echo \"worker0\" >> /usr/local/spark/conf/slaves\n",
    "          # Generate ssh key on master copy .ssh/id_rsa.pub to .ssh/authorized_keys on master and workers\n",
    "          # ssh-keygen -t rsa -P \"\"\n",
    "          #cd /usr/local/spark\n",
    "          #./sbin/start-all.sh\n",
    "      Tags:\n",
    "        -\n",
    "          Key: Name\n",
    "          Value: SparkMaster\n",
    "      KeyName: 'CS4315Summer2019-Key-Share'\n",
    "  SparkWorker:\n",
    "    Type: 'AWS::EC2::Instance'\n",
    "    Properties:\n",
    "      InstanceType: 'a1.2xlarge'\n",
    "      ImageId: 'ami-0dcd8f62a00af3d76'\n",
    "      NetworkInterfaces:\n",
    "      - DeviceIndex: 0\n",
    "        GroupSet:\n",
    "        - Ref: CS4315Summer2019SecurityGroupSpark\n",
    "        PrivateIpAddress : '192.168.28.243'\n",
    "        SubnetId: 'subnet-09e1bc3eb37714763'\n",
    "      BlockDeviceMappings:\n",
    "      - DeviceName: '/dev/sda1'\n",
    "        Ebs:\n",
    "          VolumeSize: 300\n",
    "      UserData:\n",
    "        Fn::Base64: !Sub |\n",
    "          #!/bin/bash\n",
    "          # Resize root volume\n",
    "          /sbin/resize2fs /dev/sda\n",
    "\n",
    "          # Download Java JDK from S3\n",
    "          apt-get -y update\n",
    "          apt -y install awscli\n",
    "          aws s3 cp s3://dsag-java-8/jdk-8u221-linux-arm64-vfp-hflt.tar.gz ./ --region us-east-2 --no-sign-request\n",
    "          tar -xvf jdk-8u221-linux-arm64-vfp-hflt.tar.gz\n",
    "          mkdir -p /usr/lib/jvm\n",
    "          mv ./jdk1.8.0_221 /usr/lib/jvm/\n",
    "          update-alternatives --install \"/usr/bin/java\" \"java\" \"/usr/lib/jvm/jdk1.8.0_221/bin/java\" 1\n",
    "          update-alternatives --install \"/usr/bin/javac\" \"javac\" \"/usr/lib/jvm/jdk1.8.0_221/bin/javac\" 1\n",
    "          chmod a+x /usr/bin/java\n",
    "          chmod a+x /usr/bin/javac\n",
    "          chown -R root:root /usr/lib/jvm/jdk1.8.0_221\n",
    "\n",
    "          # User setup\n",
    "          users=\"eric.eckstrand\"\n",
    "          for i in $users; do sudo useradd -m -d /home/$i -s /bin/bash $i; done\n",
    "          for i in $users; do sudo usermod --password $(openssl passwd -1 $i) $i; done\n",
    "\n",
    "          # Download Spark and start it up\n",
    "          wget http://www-us.apache.org/dist/spark/spark-2.4.3/spark-2.4.3-bin-hadoop2.7.tgz\n",
    "          tar xvf spark-2.4.3-bin-hadoop2.7.tgz\n",
    "          mv spark-2.4.3-bin-hadoop2.7 /usr/local/spark\n",
    "          echo \"192.168.28.184 master\" >> /etc/hosts\n",
    "          echo \"192.168.28.243 worker0\" >> /etc/hosts\n",
    "      Tags:\n",
    "      -\n",
    "        Key: Name\n",
    "        Value: SparkWorker\n",
    "      KeyName: 'CS4315Summer2019-Key-Share'\n",
    "  SparkMasterEIPAssociation:\n",
    "    Type: AWS::EC2::EIPAssociation\n",
    "    Properties:\n",
    "      AllocationId: 'eipalloc-0ca4e9b51d3067367'\n",
    "      InstanceId: !Ref SparkMaster\n",
    "  SparkWorkerEIPAssociation:\n",
    "    Type: AWS::EC2::EIPAssociation\n",
    "    Properties:\n",
    "      AllocationId: 'eipalloc-03094dec1dd9465cc'\n",
    "      InstanceId: !Ref SparkWorker\n",
    "  CS4315Summer2019SecurityGroupSpark:\n",
    "    Type: AWS::EC2::SecurityGroup\n",
    "    Properties:\n",
    "      GroupDescription: Inbound and outbound rules for Spark Node\n",
    "      SecurityGroupEgress:\n",
    "      - CidrIp: '0.0.0.0/0'\n",
    "        Description: All\n",
    "        FromPort: 0\n",
    "        IpProtocol: tcp\n",
    "        ToPort: 65535\n",
    "      SecurityGroupIngress:\n",
    "      - CidrIp: '0.0.0.0/0'\n",
    "        Description: All\n",
    "        FromPort: 0\n",
    "        IpProtocol: tcp\n",
    "        ToPort: 65535\n",
    "      Tags:\n",
    "      - Key: Name\n",
    "        Value: 'CS4315Summer2019-Spark'\n",
    "      VpcId: 'vpc-00b2b0d347ea0e3cc'\n",
    "```"
   ]
  },
  {
   "cell_type": "markdown",
   "metadata": {},
   "source": [
    "Once this has been established, we can create our Spark Context and connect to the master, or cluster manager. We'll use the [pyspark](https://spark.apache.org/docs/latest/api/python/index.html) python package to interact with the spark cluster in this demonstration."
   ]
  },
  {
   "cell_type": "code",
   "execution_count": 2,
   "metadata": {},
   "outputs": [],
   "source": [
    "from pyspark import SparkConf, SparkContext"
   ]
  },
  {
   "cell_type": "code",
   "execution_count": 3,
   "metadata": {},
   "outputs": [],
   "source": [
    "conf = SparkConf().setAppName('pyspark').setMaster('spark://192.168.28.184:7077').set(\"spark.driver.host\", \"192.168.28.184\");\n",
    "sc = SparkContext(conf=conf)"
   ]
  },
  {
   "cell_type": "markdown",
   "metadata": {},
   "source": [
    "We can work with structured data (i.e. ingest CSVs) with [SQLContext](https://spark.apache.org/docs/latest/api/python/pyspark.sql.html#pyspark.sql.SQLContext), which is a wrapper around the SparkContext."
   ]
  },
  {
   "cell_type": "code",
   "execution_count": 4,
   "metadata": {},
   "outputs": [],
   "source": [
    "from pyspark import SQLContext\n",
    "sqlc = SQLContext(sc)"
   ]
  },
  {
   "cell_type": "markdown",
   "metadata": {},
   "source": [
    "<a id='basics'></a>\n",
    "### Spark Basics"
   ]
  },
  {
   "cell_type": "markdown",
   "metadata": {},
   "source": [
    "Like the Pandas DataFrame, or the H2O Frame, the Spark [DataFrame](https://spark.apache.org/docs/latest/api/python/pyspark.sql.html#pyspark.sql.DataFrame) is a convenient in-memory data structure that can be used to conduct data analysis.  "
   ]
  },
  {
   "cell_type": "markdown",
   "metadata": {},
   "source": [
    "Spark supports multiple connectors to persisted data sources, but we can demonstrate how to ingest CSV files into a Spark cluster. Of note, like we saw with H2O, the CSV in question must reside in the same path on each of the nodes in the cluster."
   ]
  },
  {
   "cell_type": "code",
   "execution_count": 5,
   "metadata": {},
   "outputs": [],
   "source": [
    "df_iris = sqlc.read.csv(\"/home/eric.eckstrand/iris.csv\")"
   ]
  },
  {
   "cell_type": "code",
   "execution_count": 6,
   "metadata": {},
   "outputs": [
    {
     "data": {
      "text/plain": [
       "[Row(_c0='Sepal.Length', _c1='Sepal.Width', _c2='Petal.Length', _c3='Petal.Width', _c4='Species'),\n",
       " Row(_c0='5.1', _c1='3.5', _c2='1.4', _c3='0.2', _c4='setosa'),\n",
       " Row(_c0='4.9', _c1='3', _c2='1.4', _c3='0.2', _c4='setosa'),\n",
       " Row(_c0='4.7', _c1='3.2', _c2='1.3', _c3='0.2', _c4='setosa'),\n",
       " Row(_c0='4.6', _c1='3.1', _c2='1.5', _c3='0.2', _c4='setosa'),\n",
       " Row(_c0='5', _c1='3.6', _c2='1.4', _c3='0.2', _c4='setosa'),\n",
       " Row(_c0='5.4', _c1='3.9', _c2='1.7', _c3='0.4', _c4='setosa'),\n",
       " Row(_c0='4.6', _c1='3.4', _c2='1.4', _c3='0.3', _c4='setosa'),\n",
       " Row(_c0='5', _c1='3.4', _c2='1.5', _c3='0.2', _c4='setosa'),\n",
       " Row(_c0='4.4', _c1='2.9', _c2='1.4', _c3='0.2', _c4='setosa')]"
      ]
     },
     "execution_count": 6,
     "metadata": {},
     "output_type": "execute_result"
    }
   ],
   "source": [
    "df_iris.take(10)"
   ]
  },
  {
   "cell_type": "code",
   "execution_count": 7,
   "metadata": {},
   "outputs": [
    {
     "data": {
      "text/plain": [
       "pyspark.sql.dataframe.DataFrame"
      ]
     },
     "execution_count": 7,
     "metadata": {},
     "output_type": "execute_result"
    }
   ],
   "source": [
    "type(df_iris)"
   ]
  },
  {
   "cell_type": "markdown",
   "metadata": {},
   "source": [
    "<a id='demo'></a>\n",
    "### City Bike Demonstration"
   ]
  },
  {
   "cell_type": "code",
   "execution_count": 8,
   "metadata": {},
   "outputs": [],
   "source": [
    "df_bikes = sqlc.read.csv(\"/home/eric.eckstrand/20*.csv\", header=\"true\", inferSchema=\"true\")"
   ]
  },
  {
   "cell_type": "code",
   "execution_count": 9,
   "metadata": {},
   "outputs": [
    {
     "name": "stdout",
     "output_type": "stream",
     "text": [
      "root\n",
      " |-- tripduration: integer (nullable = true)\n",
      " |-- starttime: timestamp (nullable = true)\n",
      " |-- stoptime: timestamp (nullable = true)\n",
      " |-- start station id: integer (nullable = true)\n",
      " |-- start station name: string (nullable = true)\n",
      " |-- start station latitude: double (nullable = true)\n",
      " |-- start station longitude: double (nullable = true)\n",
      " |-- end station id: integer (nullable = true)\n",
      " |-- end station name: string (nullable = true)\n",
      " |-- end station latitude: double (nullable = true)\n",
      " |-- end station longitude: double (nullable = true)\n",
      " |-- bikeid: integer (nullable = true)\n",
      " |-- usertype: string (nullable = true)\n",
      " |-- birth year: string (nullable = true)\n",
      " |-- gender: integer (nullable = true)\n",
      "\n"
     ]
    }
   ],
   "source": [
    "df_bikes.printSchema()"
   ]
  },
  {
   "cell_type": "code",
   "execution_count": 10,
   "metadata": {},
   "outputs": [
    {
     "data": {
      "text/plain": [
       "['tripduration',\n",
       " 'starttime',\n",
       " 'stoptime',\n",
       " 'start station id',\n",
       " 'start station name',\n",
       " 'start station latitude',\n",
       " 'start station longitude',\n",
       " 'end station id',\n",
       " 'end station name',\n",
       " 'end station latitude',\n",
       " 'end station longitude',\n",
       " 'bikeid',\n",
       " 'usertype',\n",
       " 'birth year',\n",
       " 'gender']"
      ]
     },
     "execution_count": 10,
     "metadata": {},
     "output_type": "execute_result"
    }
   ],
   "source": [
    "df_bikes.columns"
   ]
  },
  {
   "cell_type": "code",
   "execution_count": 12,
   "metadata": {
    "scrolled": true
   },
   "outputs": [
    {
     "name": "stdout",
     "output_type": "stream",
     "text": [
      "+------------+--------------------+-------------------+\n",
      "|tripduration|  start station name|          starttime|\n",
      "+------------+--------------------+-------------------+\n",
      "|         404|     E 23 St & 1 Ave|2014-07-01 00:00:04|\n",
      "|         850|Bank St & Washing...|2014-07-01 00:00:06|\n",
      "|        1550|     W 13 St & 7 Ave|2014-07-01 00:00:21|\n",
      "|         397|Spruce St & Nassa...|2014-07-01 00:00:29|\n",
      "|         609| Bank St & Hudson St|2014-07-01 00:00:37|\n",
      "|        2245|Cumberland St & L...|2014-07-01 00:01:09|\n",
      "|        1323| FDR Drive & E 35 St|2014-07-01 00:01:15|\n",
      "|         320| E 16 St & Irving Pl|2014-07-01 00:01:16|\n",
      "|        2430|  Broadway & W 53 St|2014-07-01 00:01:18|\n",
      "|         700|Leonard St & Chur...|2014-07-01 00:01:21|\n",
      "+------------+--------------------+-------------------+\n",
      "only showing top 10 rows\n",
      "\n"
     ]
    }
   ],
   "source": [
    "df_bikes.select('tripduration','start station name','starttime').show(10)"
   ]
  },
  {
   "cell_type": "code",
   "execution_count": 13,
   "metadata": {
    "scrolled": true
   },
   "outputs": [
    {
     "name": "stdout",
     "output_type": "stream",
     "text": [
      "10407546 rows x 15 columns\n"
     ]
    }
   ],
   "source": [
    "print(\"{0} rows x {1} columns\".format(df_bikes.count(), len(df_bikes.columns)))"
   ]
  },
  {
   "cell_type": "markdown",
   "metadata": {},
   "source": [
    "Let's convert the `starttime` column from a date to a numeric value of days since the Epoch (January 1, 1970 midnight UTC/GMT), and we'll call it `Days`. We'll use the [withColumn](https://spark.apache.org/docs/latest/api/python/pyspark.sql.html#pyspark.sql.DataFrame.withColumn) function to achieve this."
   ]
  },
  {
   "cell_type": "code",
   "execution_count": 14,
   "metadata": {},
   "outputs": [
    {
     "name": "stdout",
     "output_type": "stream",
     "text": [
      "+-------------------+-----+\n",
      "|          starttime| Days|\n",
      "+-------------------+-----+\n",
      "|2014-07-01 00:00:04|16252|\n",
      "|2014-07-01 00:00:06|16252|\n",
      "|2014-07-01 00:00:21|16252|\n",
      "|2014-07-01 00:00:29|16252|\n",
      "|2014-07-01 00:00:37|16252|\n",
      "|2014-07-01 00:01:09|16252|\n",
      "|2014-07-01 00:01:15|16252|\n",
      "|2014-07-01 00:01:16|16252|\n",
      "|2014-07-01 00:01:18|16252|\n",
      "|2014-07-01 00:01:21|16252|\n",
      "+-------------------+-----+\n",
      "only showing top 10 rows\n",
      "\n"
     ]
    }
   ],
   "source": [
    "from pyspark.sql.functions import floor \n",
    "secsPerDay = 3600 * 24\n",
    "df_bikes = df_bikes.withColumn(\"Days\", floor(df_bikes.starttime.cast(\"long\") / secsPerDay))\n",
    "df_bikes.select('starttime', 'Days').show(10)"
   ]
  },
  {
   "cell_type": "markdown",
   "metadata": {},
   "source": [
    "At this point, we have a bunch of individual trips, but we want to know how many trips started from a given station on a given day. To do this we can group all of the individual trips from each station for each day. We can use a [groupBy](https://spark.apache.org/docs/latest/api/python/pyspark.sql.html#pyspark.sql.DataFrame.groupBy) operation to do this."
   ]
  },
  {
   "cell_type": "code",
   "execution_count": 15,
   "metadata": {},
   "outputs": [
    {
     "data": {
      "text/plain": [
       "<pyspark.sql.group.GroupedData at 0x7fc285b9d9e8>"
      ]
     },
     "execution_count": 15,
     "metadata": {},
     "output_type": "execute_result"
    }
   ],
   "source": [
    "df_gb = df_bikes.groupBy(\"Days\",\"start station name\")\n",
    "df_gb"
   ]
  },
  {
   "cell_type": "markdown",
   "metadata": {},
   "source": [
    "There are a number of functions that we can apply to the resulting groups, including the maximum value of a particular column in the group, or the mean value for a particular column in the group. See the [aggregation methods](https://spark.apache.org/docs/latest/api/python/pyspark.sql.html#pyspark.sql.GroupedData) for the full set. In our case, we just want the number of entries in a group, or the `count`. Spark will combine the result into an data frame with the columns you grouped by and the result of the (count) function for each row."
   ]
  },
  {
   "cell_type": "code",
   "execution_count": 16,
   "metadata": {},
   "outputs": [
    {
     "name": "stdout",
     "output_type": "stream",
     "text": [
      "+-----+--------------------+-----+\n",
      "| Days|  start station name|count|\n",
      "+-----+--------------------+-----+\n",
      "|16252|Perry St & Bleeck...|   69|\n",
      "|16253|  Broadway & W 60 St|  144|\n",
      "|16253|William St & Pine St|   76|\n",
      "|16253|Central Park S & ...|   81|\n",
      "|16254|Clinton St & Gran...|   70|\n",
      "|16257|    W 26 St & 10 Ave|   42|\n",
      "|16257|Madison St & Mont...|   59|\n",
      "|16257|  Broadway & W 24 St|  171|\n",
      "|16257|  Broadway & W 49 St|   86|\n",
      "|16257|Myrtle Ave & St E...|    8|\n",
      "+-----+--------------------+-----+\n",
      "only showing top 10 rows\n",
      "\n"
     ]
    }
   ],
   "source": [
    "df_bikes_per_day = df_gb.count()\n",
    "df_bikes_per_day.select('Days', 'start station name', 'count').show(10)"
   ]
  },
  {
   "cell_type": "code",
   "execution_count": 17,
   "metadata": {},
   "outputs": [
    {
     "name": "stdout",
     "output_type": "stream",
     "text": [
      "+-----+--------------------+-----+\n",
      "| Days|  start station name|bikes|\n",
      "+-----+--------------------+-----+\n",
      "|16252|Perry St & Bleeck...|   69|\n",
      "|16253|  Broadway & W 60 St|  144|\n",
      "|16253|William St & Pine St|   76|\n",
      "|16253|Central Park S & ...|   81|\n",
      "|16254|Clinton St & Gran...|   70|\n",
      "|16257|    W 26 St & 10 Ave|   42|\n",
      "|16257|Madison St & Mont...|   59|\n",
      "|16257|  Broadway & W 24 St|  171|\n",
      "|16257|  Broadway & W 49 St|   86|\n",
      "|16257|Myrtle Ave & St E...|    8|\n",
      "+-----+--------------------+-----+\n",
      "only showing top 10 rows\n",
      "\n"
     ]
    }
   ],
   "source": [
    "df_bikes_per_day = df_bikes_per_day.withColumnRenamed(\"count\",\"bikes\")\n",
    "df_bikes_per_day.select('Days', 'start station name', 'bikes').show(10)"
   ]
  },
  {
   "cell_type": "code",
   "execution_count": 18,
   "metadata": {},
   "outputs": [
    {
     "name": "stdout",
     "output_type": "stream",
     "text": [
      "138795 rows x 3 columns\n"
     ]
    }
   ],
   "source": [
    "print(\"{0} rows x {1} columns\".format(df_bikes_per_day.count(), len(df_bikes_per_day.columns)))"
   ]
  },
  {
   "cell_type": "markdown",
   "metadata": {},
   "source": [
    "So, we'll treat the `bikes` columns as our response, or the column that we want to predict. This is a regression problem. \n",
    "\n",
    "Let's extract a couple extra features from the `Days` column. Perhaps it's beneficial to know the month of the year and the day of the week. Maybe this gives the modeling technology some more predictive power. "
   ]
  },
  {
   "cell_type": "code",
   "execution_count": 20,
   "metadata": {},
   "outputs": [],
   "source": [
    "from pyspark.sql.functions import from_unixtime\n",
    "df_bikes_per_day = df_bikes_per_day.withColumn(\"Month\", from_unixtime(df_bikes_per_day.Days*secsPerDay, format='MMM'))\n",
    "df_bikes_per_day = df_bikes_per_day.withColumn(\"DayOfWeek\", from_unixtime(df_bikes_per_day.Days*secsPerDay, format='EEE'))"
   ]
  },
  {
   "cell_type": "code",
   "execution_count": 21,
   "metadata": {},
   "outputs": [
    {
     "name": "stdout",
     "output_type": "stream",
     "text": [
      "+-----+--------------------+-----+-----+---------+\n",
      "| Days|  start station name|bikes|Month|DayOfWeek|\n",
      "+-----+--------------------+-----+-----+---------+\n",
      "|16252|Perry St & Bleeck...|   69|  Jul|      Tue|\n",
      "|16253|  Broadway & W 60 St|  144|  Jul|      Wed|\n",
      "|16253|William St & Pine St|   76|  Jul|      Wed|\n",
      "|16253|Central Park S & ...|   81|  Jul|      Wed|\n",
      "|16254|Clinton St & Gran...|   70|  Jul|      Thu|\n",
      "|16257|    W 26 St & 10 Ave|   42|  Jul|      Sun|\n",
      "|16257|Madison St & Mont...|   59|  Jul|      Sun|\n",
      "|16257|  Broadway & W 24 St|  171|  Jul|      Sun|\n",
      "|16257|  Broadway & W 49 St|   86|  Jul|      Sun|\n",
      "|16257|Myrtle Ave & St E...|    8|  Jul|      Sun|\n",
      "+-----+--------------------+-----+-----+---------+\n",
      "only showing top 10 rows\n",
      "\n"
     ]
    }
   ],
   "source": [
    "df_bikes_per_day.select('Days', 'start station name', 'bikes', 'Month', 'DayOfWeek').show(10)"
   ]
  },
  {
   "cell_type": "markdown",
   "metadata": {},
   "source": [
    "Let's build a regression model using random forest."
   ]
  },
  {
   "cell_type": "code",
   "execution_count": 33,
   "metadata": {},
   "outputs": [],
   "source": [
    "from pyspark.ml import Pipeline\n",
    "from pyspark.ml.regression import RandomForestRegressor\n",
    "from pyspark.ml.feature import VectorAssembler, VectorIndexer, StringIndexer\n",
    "from pyspark.ml.evaluation import RegressionEvaluator"
   ]
  },
  {
   "cell_type": "code",
   "execution_count": 34,
   "metadata": {},
   "outputs": [
    {
     "name": "stdout",
     "output_type": "stream",
     "text": [
      "+--------------------+-----+\n",
      "|            features|bikes|\n",
      "+--------------------+-----+\n",
      "|[175.0,0.0,1.0,16...|   69|\n",
      "|[54.0,0.0,3.0,162...|  144|\n",
      "|[105.0,0.0,3.0,16...|   76|\n",
      "|[220.0,0.0,3.0,16...|   81|\n",
      "|[114.0,0.0,4.0,16...|   70|\n",
      "|[41.0,0.0,5.0,162...|   42|\n",
      "|[5.0,0.0,5.0,1625...|   59|\n",
      "|[196.0,0.0,5.0,16...|  171|\n",
      "|[277.0,0.0,5.0,16...|   86|\n",
      "|[255.0,0.0,5.0,16...|    8|\n",
      "+--------------------+-----+\n",
      "only showing top 10 rows\n",
      "\n"
     ]
    }
   ],
   "source": [
    "cat_cols = [\"start station name\", \"Month\", \"DayOfWeek\"]\n",
    "num_cols = [\"Days\"]\n",
    "\n",
    "indexers = [StringIndexer(inputCol = c, outputCol=\"{0}_indexed\".format(c)) for c in cat_cols]\n",
    "\n",
    "encoders = [StringIndexer(inputCol = indexer.getOutputCol(), outputCol = \"{0}_encoded\".format(indexer.getOutputCol())) \n",
    "for indexer in indexers]\n",
    "\n",
    "assemblerCat = VectorAssembler(inputCols = [encoder.getOutputCol() for encoder in encoders], outputCol = \"cat\")\n",
    "\n",
    "pipelineCat = Pipeline(stages = indexers + encoders + [assemblerCat])\n",
    "df_bikes_per_day = pipelineCat.fit(df_bikes_per_day).transform(df_bikes_per_day)\n",
    "\n",
    "assemblerNum = VectorAssembler(inputCols = num_cols, outputCol = \"num\")\n",
    "\n",
    "pipelineNum = Pipeline(stages = [assemblerNum])\n",
    "df_bikes_per_day = pipelineNum.fit(df_bikes_per_day).transform(df_bikes_per_day)\n",
    "\n",
    "assembler = VectorAssembler(inputCols = [\"cat\", \"num\"], outputCol = \"features\")\n",
    "\n",
    "pipeline = Pipeline(stages = [assembler])\n",
    "df_bikes_per_day = pipeline.fit(df_bikes_per_day).transform(df_bikes_per_day)\n",
    "df_bikes_per_day.select('features', 'bikes').show(10)"
   ]
  },
  {
   "cell_type": "code",
   "execution_count": 35,
   "metadata": {},
   "outputs": [
    {
     "data": {
      "text/plain": [
       "340"
      ]
     },
     "execution_count": 35,
     "metadata": {},
     "output_type": "execute_result"
    }
   ],
   "source": [
    "df_bikes_per_day.select(\"start station name\").distinct().count()"
   ]
  },
  {
   "cell_type": "code",
   "execution_count": 51,
   "metadata": {},
   "outputs": [],
   "source": [
    "featureIndexer = VectorIndexer(inputCol=\"features\", outputCol=\"indexedFeatures\", maxCategories=500).fit(df_bikes_per_day)"
   ]
  },
  {
   "cell_type": "markdown",
   "metadata": {},
   "source": [
    "Let's split the training data into training and test sets using the [randomSplit](https://spark.apache.org/docs/latest/api/python/pyspark.sql.html#pyspark.sql.DataFrame.randomSplit) function. We're not going to do any hyper-parameter tuning today, but you should."
   ]
  },
  {
   "cell_type": "code",
   "execution_count": 52,
   "metadata": {},
   "outputs": [],
   "source": [
    "(train, test) = df_bikes_per_day.randomSplit([0.8, 0.2])"
   ]
  },
  {
   "cell_type": "code",
   "execution_count": 53,
   "metadata": {},
   "outputs": [],
   "source": [
    "rf = RandomForestRegressor(featuresCol=\"indexedFeatures\", labelCol=\"bikes\", maxBins=500)"
   ]
  },
  {
   "cell_type": "code",
   "execution_count": 54,
   "metadata": {},
   "outputs": [],
   "source": [
    "pipeline = Pipeline(stages=[featureIndexer, rf])"
   ]
  },
  {
   "cell_type": "code",
   "execution_count": 55,
   "metadata": {},
   "outputs": [],
   "source": [
    "model = pipeline.fit(train)"
   ]
  },
  {
   "cell_type": "code",
   "execution_count": 56,
   "metadata": {},
   "outputs": [],
   "source": [
    "predictions = model.transform(test)"
   ]
  },
  {
   "cell_type": "code",
   "execution_count": 57,
   "metadata": {},
   "outputs": [
    {
     "name": "stdout",
     "output_type": "stream",
     "text": [
      "+------------------+-----+--------------------+\n",
      "|        prediction|bikes|            features|\n",
      "+------------------+-----+--------------------+\n",
      "| 70.64071381148214|   50|[15.0,0.0,1.0,158...|\n",
      "| 86.15073243322503|   69|[21.0,0.0,6.0,158...|\n",
      "|110.32726419243161|  119|[18.0,0.0,4.0,158...|\n",
      "| 19.43954754953519|   15|[285.0,0.0,2.0,15...|\n",
      "|20.569077061549503|   15|[236.0,0.0,2.0,15...|\n",
      "+------------------+-----+--------------------+\n",
      "only showing top 5 rows\n",
      "\n"
     ]
    }
   ],
   "source": [
    "predictions.select(\"prediction\", \"bikes\", \"features\").show(5)"
   ]
  },
  {
   "cell_type": "code",
   "execution_count": 58,
   "metadata": {},
   "outputs": [
    {
     "name": "stdout",
     "output_type": "stream",
     "text": [
      "Root Mean Squared Error (RMSE) on test data = 29.6577\n"
     ]
    }
   ],
   "source": [
    "evaluator = RegressionEvaluator(labelCol=\"bikes\", predictionCol=\"prediction\", metricName=\"rmse\")\n",
    "rmse = evaluator.evaluate(predictions)\n",
    "print(\"Root Mean Squared Error (RMSE) on test data = %g\" % rmse)"
   ]
  },
  {
   "cell_type": "code",
   "execution_count": 60,
   "metadata": {},
   "outputs": [
    {
     "data": {
      "text/plain": [
       "879.5791692899999"
      ]
     },
     "execution_count": 60,
     "metadata": {},
     "output_type": "execute_result"
    }
   ],
   "source": [
    "29.6577**2"
   ]
  },
  {
   "cell_type": "code",
   "execution_count": null,
   "metadata": {},
   "outputs": [],
   "source": []
  }
 ],
 "metadata": {
  "kernelspec": {
   "display_name": "Python 3",
   "language": "python",
   "name": "python3"
  },
  "language_info": {
   "codemirror_mode": {
    "name": "ipython",
    "version": 3
   },
   "file_extension": ".py",
   "mimetype": "text/x-python",
   "name": "python",
   "nbconvert_exporter": "python",
   "pygments_lexer": "ipython3",
   "version": "3.5.2"
  }
 },
 "nbformat": 4,
 "nbformat_minor": 2
}
